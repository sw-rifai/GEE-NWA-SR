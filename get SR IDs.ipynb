{
 "metadata": {
  "name": "",
  "signature": "sha256:f5a37943b687ad0aa5488e0362cfc6531caaba4366eff61d4e32fb6a63e2dcf1"
 },
 "nbformat": 3,
 "nbformat_minor": 0,
 "worksheets": [
  {
   "cells": [
    {
     "cell_type": "markdown",
     "metadata": {},
     "source": [
      "## Initialize Earth Engine and necessary imports"
     ]
    },
    {
     "cell_type": "code",
     "collapsed": false,
     "input": [
      "import ee\n",
      "\n",
      "# Initialize the Earth Engine object, using the authentication credentials. \n",
      "ee.Initialize()\n",
      "\n",
      "\n",
      "%matplotlib inline\n",
      "from __future__ import print_function # For py 2.7 compat\n",
      "\n",
      "import datetime\n",
      "import ee\n",
      "import numpy as np\n",
      "import os\n",
      "import matplotlib.pyplot as plt\n",
      "from pylab import figure\n",
      "import matplotlib.dates as mdates\n",
      "\n",
      "from IPython.html import widgets\n",
      "from IPython.display import display\n",
      "from IPython.utils import traitlets\n",
      "from IPython.core.display import Javascript\n",
      "\n",
      "class GoogleMapsWidget(widgets.DOMWidget):\n",
      "    _view_name = traitlets.Unicode('GoogleMapsView', sync=True)\n",
      "    value = traitlets.Unicode(sync=True)\n",
      "    description = traitlets.Unicode(sync=True)\n",
      "    lat = traitlets.CFloat(0, help=\"Center latitude, -90 to 90\", sync=True)\n",
      "    lng = traitlets.CFloat(0, help=\"Center longitude, -180 to 180\", sync=True)\n",
      "    zoom = traitlets.CInt(0, help=\"Zoom level, 0 to ~25\", sync=True)\n",
      "    bounds = traitlets.List([], help=\"Visible bounds, [W, S, E, N]\", sync=True)\n",
      "    \n",
      "    def __init__(self, lng=0.0, lat=0.0, zoom=2):\n",
      "        self.lng = lng\n",
      "        self.lat = lat\n",
      "        self.zoom = zoom\n",
      "        \n",
      "    def addLayer(self, image, vis_params=None, name=None, visible=True):\n",
      "        mapid = image.getMapId(vis_params)\n",
      "        self.send({'command':'addLayer', 'mapid': mapid['mapid'], 'token': mapid['token'], 'name': name, 'visible': visible})\n",
      "        \n",
      "    def center(self, lng, lat, zoom=None):\n",
      "        self.send({'command': 'center', 'lng': lng, 'lat': lat, 'zoom': zoom})"
     ],
     "language": "python",
     "metadata": {},
     "outputs": [],
     "prompt_number": 1
    },
    {
     "cell_type": "code",
     "collapsed": false,
     "input": [
      "import datetime\n",
      "\n",
      "def getSrIDs(inYear, collection, path, row, CC): \n",
      "    ID = list();\n",
      "    lastImage = list(); \n",
      "\n",
      "    yearArray = list();\n",
      "    #startDate = '7/1/' + str(inYear); #earliest month and day to take acquisition\n",
      "    #endDate = '12/31/' + str(inYear); # latest month and day\n",
      "    startTime = datetime.datetime(inYear, 7, 1)\n",
      "    endTime = datetime.datetime(inYear, 12, 31)\n",
      "    \n",
      "    # filtering for the last half of the year is better for blowdown detection because of shortlived signal\n",
      "\n",
      "    collectionSpec = (ee.ImageCollection(collection)\n",
      "            .filterDate(startTime, endTime)\n",
      "            .filterMetadata('default:WRS_PATH', 'EQUALS', path)\n",
      "            .filterMetadata('default:WRS_ROW', 'EQUALS', row) \n",
      "            .filterMetadata('CLOUD_COVER','less_than',CC));\n",
      "            \n",
      "\n",
      "    #lastImage = lastImage.select(['B1', 'B2', 'B3', 'B4', 'B5', 'B7']); #select bands\n",
      "\n",
      "    if(len(lastImage) == 0):\n",
      "        ID = list(); \n",
      "    else: ID = lastImage.getInfo().id; \n",
      "    \n",
      "    if (len(collectionSpec.getInfo()['features'])>0): \n",
      "        lastImage = collectionSpec.sort('system:time_start', False); #stack in descending order\n",
      "        lastImage = ee.Image(lastImage.first()); #take last image of the year\n",
      "    elif (len(collectionSpec.getInfo()['features'])==0):\n",
      "        collectionSpec = (ee.ImageCollection(collection)\n",
      "           .filterDate(startTime,endTime)\n",
      "           .filterMetadata('default:WRS_PATH', 'EQUALS', path)\n",
      "           .filterMetadata('default:WRS_ROW', 'EQUALS', row) \n",
      "           .filterMetadata('CLOUD_COVER','less_than',CC + 35)); \n",
      "            \n",
      "        lastImage = collectionSpec.sort('CLOUD_COVER', True); #stack in descending order\n",
      "        lastImage = ee.Image(lastImage.first()); #take last image of the year\n",
      "    \n",
      "    if(ee.Image(collectionSpec.first()).getInfo() == None):\n",
      "        lastImageID = None\n",
      "    else: lastImageID = print(lastImage.getInfo()['id']) #get the image ID\n",
      "\n",
      "    return lastImageID;"
     ],
     "language": "python",
     "metadata": {},
     "outputs": [],
     "prompt_number": 91
    },
    {
     "cell_type": "code",
     "collapsed": false,
     "input": [
      "#startTime = datetime.datetime(2009, 7, 1)\n",
      "#endTime = datetime.datetime(2010, 12, 31)\n",
      "\n",
      "getSrIDs(2002, 'LT5_L1T_SR', 6, 63, 1)\n",
      "\n",
      " \n",
      "#print(imageIDs)"
     ],
     "language": "python",
     "metadata": {},
     "outputs": [],
     "prompt_number": 93
    },
    {
     "cell_type": "code",
     "collapsed": false,
     "input": [
      "print(imageIDs.getInfo()['id']);\n"
     ],
     "language": "python",
     "metadata": {},
     "outputs": [
      {
       "output_type": "stream",
       "stream": "stdout",
       "text": [
        "LT5_L1T_SR/LT50060632009341CUB00\n"
       ]
      }
     ],
     "prompt_number": 24
    },
    {
     "cell_type": "code",
     "collapsed": false,
     "input": [
      "#collectionSpec.getInfo()['features']"
     ],
     "language": "python",
     "metadata": {},
     "outputs": [],
     "prompt_number": 5
    },
    {
     "cell_type": "code",
     "collapsed": false,
     "input": [
      "#print(len(collectionSpec.getInfo()['features'])) #works!!!"
     ],
     "language": "python",
     "metadata": {},
     "outputs": [],
     "prompt_number": 48
    },
    {
     "cell_type": "code",
     "collapsed": false,
     "input": [
      "years = [2000,2001,2002,2003,2004,2005,2006,2007,2008,2009,2010,2011,2012];\n",
      "imageIDs = [];\n",
      "for i in range(0,len(years)-1):\n",
      "  imageIDs.append(getSrIDs(years[i], 'LT5_L1T_SR',6,63,1))\n"
     ],
     "language": "python",
     "metadata": {},
     "outputs": [
      {
       "output_type": "stream",
       "stream": "stdout",
       "text": [
        "LT5_L1T_SR/LT50060632000285XXX01\n",
        "LT5_L1T_SR/LT50060632001207CUB00"
       ]
      },
      {
       "output_type": "stream",
       "stream": "stdout",
       "text": [
        "\n",
        "LT5_L1T_SR/LT50060632003309CUB00"
       ]
      },
      {
       "output_type": "stream",
       "stream": "stdout",
       "text": [
        "\n",
        "LT5_L1T_SR/LT50060632004360CUB00"
       ]
      },
      {
       "output_type": "stream",
       "stream": "stdout",
       "text": [
        "\n",
        "LT5_L1T_SR/LT50060632005266CUB00"
       ]
      },
      {
       "output_type": "stream",
       "stream": "stdout",
       "text": [
        "\n",
        "LT5_L1T_SR/LT50060632006333CUB00"
       ]
      },
      {
       "output_type": "stream",
       "stream": "stdout",
       "text": [
        "\n",
        "LT5_L1T_SR/LT50060632007208CUB00"
       ]
      },
      {
       "output_type": "stream",
       "stream": "stdout",
       "text": [
        "\n",
        "LT5_L1T_SR/LT50060632008227CUB00"
       ]
      },
      {
       "output_type": "stream",
       "stream": "stdout",
       "text": [
        "\n",
        "LT5_L1T_SR/LT50060632009341CUB00"
       ]
      },
      {
       "output_type": "stream",
       "stream": "stdout",
       "text": [
        "\n",
        "LT5_L1T_SR/LT50060632010280CUB00"
       ]
      },
      {
       "output_type": "stream",
       "stream": "stdout",
       "text": [
        "\n",
        "LT5_L1T_SR/LT50060632011219CUB00"
       ]
      },
      {
       "output_type": "stream",
       "stream": "stdout",
       "text": [
        "\n"
       ]
      }
     ],
     "prompt_number": 94
    },
    {
     "cell_type": "code",
     "collapsed": false,
     "input": [
      "print(imageIDs)"
     ],
     "language": "python",
     "metadata": {},
     "outputs": [
      {
       "output_type": "stream",
       "stream": "stdout",
       "text": [
        "[None, None, None, None, None, None, None, None, None, None, None, None]\n"
       ]
      }
     ],
     "prompt_number": 99
    },
    {
     "cell_type": "code",
     "collapsed": false,
     "input": [
      "import datetime\n",
      "collection = 'LT5_L1T_SR' \n",
      "inYear = 2002\n",
      "startDate = datetime.datetime(inYear, 7, 1); \n",
      "endDate = datetime.datetime(inYear,12,31);\n",
      "path = 6\n",
      "row = 63 \n",
      "CC = 1\n",
      "collectionSpec = ee.ImageCollection(collection)\n",
      "collectionSpec = (collectionSpec\n",
      "    .filterDate(startDate, endDate)\n",
      "    .filterMetadata('default:WRS_PATH', 'EQUALS', path)\n",
      "    .filterMetadata('default:WRS_ROW', 'EQUALS', row)\n",
      "    .filterMetadata('CLOUD_COVER','less_than',CC)) "
     ],
     "language": "python",
     "metadata": {},
     "outputs": [],
     "prompt_number": 69
    },
    {
     "cell_type": "code",
     "collapsed": false,
     "input": [
      "x = ee.Image(collectionSpec.first()).getInfo()['id'] \n",
      "if(x == None): print(True)"
     ],
     "language": "python",
     "metadata": {},
     "outputs": [
      {
       "ename": "TypeError",
       "evalue": "'NoneType' object has no attribute '__getitem__'",
       "output_type": "pyerr",
       "traceback": [
        "\u001b[1;31m---------------------------------------------------------------------------\u001b[0m\n\u001b[1;31mTypeError\u001b[0m                                 Traceback (most recent call last)",
        "\u001b[1;32m<ipython-input-71-d7b83e9027f1>\u001b[0m in \u001b[0;36m<module>\u001b[1;34m()\u001b[0m\n\u001b[1;32m----> 1\u001b[1;33m \u001b[0mx\u001b[0m \u001b[1;33m=\u001b[0m \u001b[0mee\u001b[0m\u001b[1;33m.\u001b[0m\u001b[0mImage\u001b[0m\u001b[1;33m(\u001b[0m\u001b[0mcollectionSpec\u001b[0m\u001b[1;33m.\u001b[0m\u001b[0mfirst\u001b[0m\u001b[1;33m(\u001b[0m\u001b[1;33m)\u001b[0m\u001b[1;33m)\u001b[0m\u001b[1;33m.\u001b[0m\u001b[0mgetInfo\u001b[0m\u001b[1;33m(\u001b[0m\u001b[1;33m)\u001b[0m\u001b[1;33m[\u001b[0m\u001b[1;34m'id'\u001b[0m\u001b[1;33m]\u001b[0m\u001b[1;33m\u001b[0m\u001b[0m\n\u001b[0m\u001b[0;32m      2\u001b[0m \u001b[1;32mif\u001b[0m\u001b[1;33m(\u001b[0m\u001b[0mx\u001b[0m \u001b[1;33m==\u001b[0m \u001b[0mNone\u001b[0m\u001b[1;33m)\u001b[0m\u001b[1;33m:\u001b[0m \u001b[1;32mprint\u001b[0m\u001b[1;33m(\u001b[0m\u001b[0mTrue\u001b[0m\u001b[1;33m)\u001b[0m\u001b[1;33m\u001b[0m\u001b[0m\n",
        "\u001b[1;31mTypeError\u001b[0m: 'NoneType' object has no attribute '__getitem__'"
       ]
      }
     ],
     "prompt_number": 71
    },
    {
     "cell_type": "code",
     "collapsed": false,
     "input": [
      "if(ee.Image(collectionSpec.first()) == None): print(True)"
     ],
     "language": "python",
     "metadata": {},
     "outputs": [],
     "prompt_number": 72
    },
    {
     "cell_type": "code",
     "collapsed": false,
     "input": [
      "ee.Image(collectionSpec.first()).getInfo() == None"
     ],
     "language": "python",
     "metadata": {},
     "outputs": [
      {
       "metadata": {},
       "output_type": "pyout",
       "prompt_number": 80,
       "text": [
        "True"
       ]
      }
     ],
     "prompt_number": 80
    },
    {
     "cell_type": "code",
     "collapsed": false,
     "input": [
      "x = [1,None,2] \n",
      "x[0] + x[1]"
     ],
     "language": "python",
     "metadata": {},
     "outputs": [
      {
       "ename": "TypeError",
       "evalue": "unsupported operand type(s) for +: 'int' and 'NoneType'",
       "output_type": "pyerr",
       "traceback": [
        "\u001b[1;31m---------------------------------------------------------------------------\u001b[0m\n\u001b[1;31mTypeError\u001b[0m                                 Traceback (most recent call last)",
        "\u001b[1;32m<ipython-input-90-5dabb3f5c571>\u001b[0m in \u001b[0;36m<module>\u001b[1;34m()\u001b[0m\n\u001b[0;32m      1\u001b[0m \u001b[0mx\u001b[0m \u001b[1;33m=\u001b[0m \u001b[1;33m[\u001b[0m\u001b[1;36m1\u001b[0m\u001b[1;33m,\u001b[0m\u001b[0mNone\u001b[0m\u001b[1;33m,\u001b[0m\u001b[1;36m2\u001b[0m\u001b[1;33m]\u001b[0m\u001b[1;33m\u001b[0m\u001b[0m\n\u001b[1;32m----> 2\u001b[1;33m \u001b[0mx\u001b[0m\u001b[1;33m[\u001b[0m\u001b[1;36m0\u001b[0m\u001b[1;33m]\u001b[0m \u001b[1;33m+\u001b[0m \u001b[0mx\u001b[0m\u001b[1;33m[\u001b[0m\u001b[1;36m1\u001b[0m\u001b[1;33m]\u001b[0m\u001b[1;33m\u001b[0m\u001b[0m\n\u001b[0m",
        "\u001b[1;31mTypeError\u001b[0m: unsupported operand type(s) for +: 'int' and 'NoneType'"
       ]
      }
     ],
     "prompt_number": 90
    },
    {
     "cell_type": "code",
     "collapsed": false,
     "input": [
      "// getRawIDs_0.02\n",
      "function getRawIDs(inYear, collection, path, row, CC) {\n",
      "\n",
      "var ID = null;\n",
      "var lastImage = null; \n",
      "\n",
      "  var yearArray = [];\n",
      "  var startDate = '7/1/' + String(inYear); //earliest month and day to take acquisition\n",
      "  var endDate = '12/31/' + String(inYear); // latest month and day \n",
      "  // filtering for the last half of the year is better for blowdown detection because of shortlived signal\n",
      "\n",
      "var collectionSpec = ee.ImageCollection(collection)\n",
      "            .filterDate(new Date(startDate), new Date(endDate))\n",
      "            .filterMetadata('default:WRS_PATH', 'EQUALS', path)\n",
      "            .filterMetadata('default:WRS_ROW', 'EQUALS', row) \n",
      "            .filterMetadata('CLOUD_COVER','less_than',CC);\n",
      "            \n",
      "\n",
      "    //lastImage = lastImage.select(['B1', 'B2', 'B3', 'B4', 'B5', 'B7']); //select bands\n",
      "\n",
      "//if(lastImage === null){ID = null;} else {ID = lastImage.getInfo().id;} \n",
      "if(collectionSpec.getInfo().features.length>0) {\n",
      "    lastImage = collectionSpec.sort('system:time_start', false); //stack in descending order\n",
      "    lastImage = ee.Image(lastImage.first()); //take last image of the year\n",
      "  }else if(collectionSpec.getInfo().features.length===0){\n",
      "     collectionSpec = ee.ImageCollection(collection)\n",
      "            .filterDate(new Date(startDate), new Date(endDate))\n",
      "            .filterMetadata('default:WRS_PATH', 'EQUALS', path)\n",
      "            .filterMetadata('default:WRS_ROW', 'EQUALS', row) \n",
      "            .filterMetadata('CLOUD_COVER','less_than',CC + 35); \n",
      "            \n",
      "    lastImage = collectionSpec.sort('CLOUD_COVER', true); //stack in descending order\n",
      "    lastImage = ee.Image(lastImage.first()); //take last image of the year\n",
      "  }\n",
      "return lastImage;}\n",
      "\n",
      "//print(getRawIDs(2002, 'LT5_L1T_SR',6,63,1));\n",
      "\n",
      "//var raw = getRaw(2009,'LT5_L1T_SR',6,63,1); \n",
      "//print(raw.getInfo());\n",
      "//print(raw.getInfo().id);\n",
      "\n",
      "var years = [2000,2001,2002,2003,2004,2005,2006,2007,2008,2009,2010,2011,2012];\n",
      "var imageIDs = new Array(13);\n",
      "for( var i=0; i<13; i++){\n",
      "  imageIDs[i] = getRawIDs([i], 'LT5_L1T_SR',6,63,1);\n",
      "}\n",
      "\n",
      "print(imageIDs); \n",
      "var visParamsSR =  {min: '0, 0, 0', max: '3000, 4000, 1000', bands: ['B5','B4','B3']};\n",
      "addToMap(ee.Image(imageIDs[5]),visParamsSR,'SR');"
     ],
     "language": "python",
     "metadata": {},
     "outputs": []
    },
    {
     "cell_type": "code",
     "collapsed": false,
     "input": [],
     "language": "python",
     "metadata": {},
     "outputs": []
    },
    {
     "cell_type": "code",
     "collapsed": false,
     "input": [
      "def getRawIDs(inYear, collection, path, row, CC):\n",
      "    imageMasked = image.And(image.mask(image.select('B7').gte(1550).focal_min(5))); #remove soil dominated pixels\n",
      "    soil = image.expression(\"b('B7')>1550\").eq(0).focal_min(5);\n",
      "    combinedMask = image.mask().And(soil);\n",
      "    image = image.mask(combinedMask);\n",
      "    return image;"
     ],
     "language": "python",
     "metadata": {},
     "outputs": []
    }
   ],
   "metadata": {}
  }
 ]
}