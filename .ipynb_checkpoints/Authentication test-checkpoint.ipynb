{
 "metadata": {
  "name": "",
  "signature": "sha256:cc0f1ea7d4df8a0d56c73cb5a32ff35e6172c8327b07361f2690b9a63910dff2"
 },
 "nbformat": 3,
 "nbformat_minor": 0,
 "worksheets": []
}