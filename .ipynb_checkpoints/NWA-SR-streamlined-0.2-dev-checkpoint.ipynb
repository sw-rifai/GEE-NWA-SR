{
 "metadata": {
  "name": "",
  "signature": "sha256:98ccef65589dafe96493ef86cfe1cfab22b0da5706c8cb33581666c840940ef5"
 },
 "nbformat": 3,
 "nbformat_minor": 0,
 "worksheets": [
  {
   "cells": [
    {
     "cell_type": "code",
     "collapsed": false,
     "input": [
      "import ee\n",
      "\n",
      "# Initialize the Earth Engine object, using the authentication credentials. \n",
      "ee.Initialize()"
     ],
     "language": "python",
     "metadata": {},
     "outputs": [],
     "prompt_number": 1
    },
    {
     "cell_type": "code",
     "collapsed": false,
     "input": [
      "%matplotlib inline\n",
      "from __future__ import print_function # For py 2.7 compat\n",
      "\n",
      "import datetime\n",
      "import ee\n",
      "import numpy as np\n",
      "import os\n",
      "import matplotlib.pyplot as plt\n",
      "from pylab import figure\n",
      "import matplotlib.dates as mdates\n",
      "\n",
      "from IPython.html import widgets\n",
      "from IPython.display import display\n",
      "from IPython.utils import traitlets\n",
      "from IPython.core.display import Javascript \n",
      "\n",
      "class GoogleMapsWidget(widgets.DOMWidget):\n",
      "    _view_name = traitlets.Unicode('GoogleMapsView', sync=True)\n",
      "    value = traitlets.Unicode(sync=True)\n",
      "    description = traitlets.Unicode(sync=True)\n",
      "    lat = traitlets.CFloat(0, help=\"Center latitude, -90 to 90\", sync=True)\n",
      "    lng = traitlets.CFloat(0, help=\"Center longitude, -180 to 180\", sync=True)\n",
      "    zoom = traitlets.CInt(0, help=\"Zoom level, 0 to ~25\", sync=True)\n",
      "    bounds = traitlets.List([], help=\"Visible bounds, [W, S, E, N]\", sync=True)\n",
      "    \n",
      "    def __init__(self, lng=0.0, lat=0.0, zoom=2):\n",
      "        self.lng = lng\n",
      "        self.lat = lat\n",
      "        self.zoom = zoom\n",
      "        \n",
      "    def addLayer(self, image, vis_params=None, name=None, visible=True):\n",
      "        mapid = image.getMapId(vis_params)\n",
      "        self.send({'command':'addLayer', 'mapid': mapid['mapid'], 'token': mapid['token'], 'name': name, 'visible': visible})\n",
      "        \n",
      "    def center(self, lng, lat, zoom=None):\n",
      "        self.send({'command': 'center', 'lng': lng, 'lat': lat, 'zoom': zoom})"
     ],
     "language": "python",
     "metadata": {},
     "outputs": [],
     "prompt_number": 2
    },
    {
     "cell_type": "code",
     "collapsed": false,
     "input": [
      "%%javascript\n",
      "\n",
      "require([\"widgets/js/widget\"], function(WidgetManager){\n",
      "    var maps = [];\n",
      "    \n",
      "    // Define the GoogleMapsView\n",
      "    var GoogleMapsView = IPython.DOMWidgetView.extend({\n",
      "        \n",
      "        render: function() {\n",
      "            // Resize widget element to be 100% wide\n",
      "            this.$el.css('width', '100%');\n",
      "\n",
      "            // iframe source;  just enough to load Google Maps and let us poll whether initialization is complete\n",
      "            var src='<html style=\"height:100%\"><head>' +\n",
      "                '<scr'+'ipt src=\"http://maps.googleapis.com/maps/api/js?sensor=false\"></scr'+'ipt>' +\n",
      "                '<scr'+'ipt>google.maps.event.addDomListener(window,\"load\",function(){ready=true});</scr'+'ipt>' +\n",
      "                '</head>' +\n",
      "                '<body style=\"height:100%; margin:0px; padding:0px\"></body></html>';\n",
      "            \n",
      "            // Create the Google Maps container element.\n",
      "            this.$iframe = $('<iframe />')\n",
      "                .css('width', '100%')\n",
      "                .css('height', '500px')\n",
      "                .attr('srcdoc', src)\n",
      "                .appendTo(this.$el);\n",
      "                        \n",
      "            var self = this; // hold onto this for initMapWhenReady\n",
      "\n",
      "            // Wait until maps library has finished loading in iframe, then create map\n",
      "            function initMapWhenReady() {\n",
      "                // Iframe document and window\n",
      "                var doc = self.$iframe[0].contentDocument;\n",
      "                var win = self.$iframe[0].contentWindow;\n",
      "                if (!win || !win.ready) {\n",
      "                    // Maps library not yet loaded;  try again soon\n",
      "                    setTimeout(initMapWhenReady, 20);\n",
      "                    return;\n",
      "                }\n",
      "\n",
      "                // Maps library finished loading.  Build map now.\n",
      "                var mapOptions = {\n",
      "                    center: new win.google.maps.LatLng(self.model.get('lat'), self.model.get('lng')),\n",
      "                    zoom: self.model.get('zoom')\n",
      "                };\n",
      "                var mapDiv = $('<div />')\n",
      "                    .css('width', '100%')\n",
      "                    .css('height', '100%')\n",
      "                    .appendTo($(doc.body));\n",
      "                self.map = new win.google.maps.Map(mapDiv[0], mapOptions);\n",
      "                \n",
      "                \n",
      "                // Add an event listeners for user panning, zooming, and resizing map\n",
      "                // TODO(rsargent): Bind self across all methods, and save some plumbing here\n",
      "                win.google.maps.event.addListener(self.map, 'bounds_changed', function () {\n",
      "                    self.handleBoundsChanged();\n",
      "                });\n",
      "                \n",
      "                self.initializeLayersControl();\n",
      "            }\n",
      "            initMapWhenReady();\n",
      "        },\n",
      "        \n",
      "        LayersControl: function(widget, controlDiv, map) {\n",
      "            var win = widget.$iframe[0].contentWindow;\n",
      "            var chicago = new win.google.maps.LatLng(41.850033, -87.6500523);\n",
      "\n",
      "            // Set CSS styles for the DIV containing the control\n",
      "            // Setting padding to 5 px will offset the control\n",
      "            // from the edge of the map.\n",
      "            controlDiv.style.padding = '5px';\n",
      "\n",
      "            // Set CSS for the control border.\n",
      "            var $controlUI = $('<div />')\n",
      "                .css('backgroundColor', 'white')\n",
      "                .css('borderStyle', 'solid')\n",
      "                .css('borderWidth', '1px')\n",
      "                .css('cursor', 'pointer')\n",
      "                .css('textAlign', 'center')\n",
      "                .appendTo($(controlDiv));\n",
      "            \n",
      "            // Set CSS for the control interior.\n",
      "            var $controlContents = $('<div />')\n",
      "                .css('fontFamily', 'Arial,sans-serif')\n",
      "                .css('fontSize', '12px')\n",
      "                .css('paddingLeft', '4px')\n",
      "                .css('paddingRight', '4px')\n",
      "                .css('paddingTop', '0px')\n",
      "                .css('paddingBottom', '0px')\n",
      "                .appendTo($controlUI);\n",
      "            \n",
      "            this.$controlTable = $('<table />')\n",
      "                .append($('<tr><td colspan=2>Layers</td></tr>'))\n",
      "                .appendTo($controlContents);\n",
      "        },\n",
      "\n",
      "        initializeLayersControl: function() {\n",
      "            var doc = this.$iframe[0].contentDocument;\n",
      "            var win = this.$iframe[0].contentWindow;\n",
      "\n",
      "            // Create the DIV to hold the control and call the LayersControl() constructor\n",
      "            // passing in this DIV.\n",
      "    \n",
      "            var layersControlDiv = document.createElement('div');\n",
      "            this.layersControl = new this.LayersControl(this, layersControlDiv, this.map);\n",
      "\n",
      "            layersControlDiv.index = 1;\n",
      "            this.map.controls[win.google.maps.ControlPosition.TOP_RIGHT].push(layersControlDiv);\n",
      "        },\n",
      "        \n",
      "        // Map geometry changed (pan, zoom, resize)\n",
      "        handleBoundsChanged: function() {\n",
      "            this.model.set('lng', this.map.getCenter().lng());\n",
      "            this.model.set('lat', this.map.getCenter().lat());\n",
      "            this.model.set('zoom', this.map.getZoom());\n",
      "            var bounds = this.map.getBounds();\n",
      "            var playgroundCompatible = [bounds.getSouthWest().lng(), bounds.getSouthWest().lat(),\n",
      "                                        bounds.getNorthEast().lng(), bounds.getNorthEast().lat()];\n",
      "            this.model.set('bounds', playgroundCompatible);\n",
      "            this.touch();\n",
      "        },\n",
      "        \n",
      "        // Receive custom messages from Python backend\n",
      "        on_msg: function(msg) {\n",
      "            var win = this.$iframe[0].contentWindow;\n",
      "            if (msg.command == 'addLayer') {\n",
      "                this.addLayer(msg.mapid, msg.token, msg.name, msg.visible);\n",
      "            } else if (msg.command == 'center') {\n",
      "                this.map.setCenter(new win.google.maps.LatLng(msg.lat, msg.lng));\n",
      "                if (msg.zoom !== null) {\n",
      "                    this.map.setZoom(msg.zoom);\n",
      "                }\n",
      "            }\n",
      "        },\n",
      "        \n",
      "        // Add an Earth Engine layer\n",
      "        addLayer: function(mapid, token, name, visible) {\n",
      "            var win = this.$iframe[0].contentWindow;\n",
      "            var eeMapOptions = {\n",
      "                getTileUrl: function(tile, zoom) {\n",
      "                    var url = ['https://earthengine.googleapis.com/map',\n",
      "                               mapid, zoom, tile.x, tile.y].join(\"/\");\n",
      "                    url += '?token=' + token\n",
      "                    return url;\n",
      "                },\n",
      "                tileSize: new win.google.maps.Size(256, 256),\n",
      "                opacity: visible ? 1.0 : 0.0,\n",
      "            };\n",
      "            \n",
      "            // Create the overlay map type\n",
      "            var mapType = new win.google.maps.ImageMapType(eeMapOptions);\n",
      "                \n",
      "            // Overlay the Earth Engine generated layer\n",
      "            this.map.overlayMapTypes.push(mapType);\n",
      "\n",
      "            // Update layer visibility control\n",
      "            var maxSlider = 100;\n",
      "            \n",
      "            function updateOpacity() {\n",
      "                mapType.setOpacity($checkbox[0].checked ? $slider[0].value / 100.0 : 0);\n",
      "            }\n",
      "            \n",
      "            var $checkbox = $('<input type=\"checkbox\">')\n",
      "                .prop('checked', visible)\n",
      "                .change(updateOpacity);\n",
      "            \n",
      "            var $slider = $('<input type=\"range\" />')\n",
      "                .prop('min', 0)\n",
      "                .prop('max', maxSlider)\n",
      "                .prop('value', maxSlider)\n",
      "                .css('width', '60px')\n",
      "                .on('input', updateOpacity);\n",
      "\n",
      "            // If user doesn't specify a layer name, create a default\n",
      "            if (name === null) {\n",
      "                name = 'Layer ' + this.map.overlayMapTypes.length;\n",
      "            }\n",
      "            \n",
      "            var $row = $('<tr />');\n",
      "            $('<td align=\"left\" />').append($checkbox).append(name).appendTo($row);\n",
      "            $('<td />').append($slider).appendTo($row);\n",
      "\n",
      "            this.layersControl.$controlTable.append($row);\n",
      "        }\n",
      "    });\n",
      "    \n",
      "    // Register the GoogleMapsView with the widget manager.\n",
      "    WidgetManager.register_widget_view('GoogleMapsView', GoogleMapsView);\n",
      "});\n"
     ],
     "language": "python",
     "metadata": {},
     "outputs": [
      {
       "javascript": [
        "\n",
        "require([\"widgets/js/widget\"], function(WidgetManager){\n",
        "    var maps = [];\n",
        "    \n",
        "    // Define the GoogleMapsView\n",
        "    var GoogleMapsView = IPython.DOMWidgetView.extend({\n",
        "        \n",
        "        render: function() {\n",
        "            // Resize widget element to be 100% wide\n",
        "            this.$el.css('width', '100%');\n",
        "\n",
        "            // iframe source;  just enough to load Google Maps and let us poll whether initialization is complete\n",
        "            var src='<html style=\"height:100%\"><head>' +\n",
        "                '<scr'+'ipt src=\"http://maps.googleapis.com/maps/api/js?sensor=false\"></scr'+'ipt>' +\n",
        "                '<scr'+'ipt>google.maps.event.addDomListener(window,\"load\",function(){ready=true});</scr'+'ipt>' +\n",
        "                '</head>' +\n",
        "                '<body style=\"height:100%; margin:0px; padding:0px\"></body></html>';\n",
        "            \n",
        "            // Create the Google Maps container element.\n",
        "            this.$iframe = $('<iframe />')\n",
        "                .css('width', '100%')\n",
        "                .css('height', '500px')\n",
        "                .attr('srcdoc', src)\n",
        "                .appendTo(this.$el);\n",
        "                        \n",
        "            var self = this; // hold onto this for initMapWhenReady\n",
        "\n",
        "            // Wait until maps library has finished loading in iframe, then create map\n",
        "            function initMapWhenReady() {\n",
        "                // Iframe document and window\n",
        "                var doc = self.$iframe[0].contentDocument;\n",
        "                var win = self.$iframe[0].contentWindow;\n",
        "                if (!win || !win.ready) {\n",
        "                    // Maps library not yet loaded;  try again soon\n",
        "                    setTimeout(initMapWhenReady, 20);\n",
        "                    return;\n",
        "                }\n",
        "\n",
        "                // Maps library finished loading.  Build map now.\n",
        "                var mapOptions = {\n",
        "                    center: new win.google.maps.LatLng(self.model.get('lat'), self.model.get('lng')),\n",
        "                    zoom: self.model.get('zoom')\n",
        "                };\n",
        "                var mapDiv = $('<div />')\n",
        "                    .css('width', '100%')\n",
        "                    .css('height', '100%')\n",
        "                    .appendTo($(doc.body));\n",
        "                self.map = new win.google.maps.Map(mapDiv[0], mapOptions);\n",
        "                \n",
        "                \n",
        "                // Add an event listeners for user panning, zooming, and resizing map\n",
        "                // TODO(rsargent): Bind self across all methods, and save some plumbing here\n",
        "                win.google.maps.event.addListener(self.map, 'bounds_changed', function () {\n",
        "                    self.handleBoundsChanged();\n",
        "                });\n",
        "                \n",
        "                self.initializeLayersControl();\n",
        "            }\n",
        "            initMapWhenReady();\n",
        "        },\n",
        "        \n",
        "        LayersControl: function(widget, controlDiv, map) {\n",
        "            var win = widget.$iframe[0].contentWindow;\n",
        "            var chicago = new win.google.maps.LatLng(41.850033, -87.6500523);\n",
        "\n",
        "            // Set CSS styles for the DIV containing the control\n",
        "            // Setting padding to 5 px will offset the control\n",
        "            // from the edge of the map.\n",
        "            controlDiv.style.padding = '5px';\n",
        "\n",
        "            // Set CSS for the control border.\n",
        "            var $controlUI = $('<div />')\n",
        "                .css('backgroundColor', 'white')\n",
        "                .css('borderStyle', 'solid')\n",
        "                .css('borderWidth', '1px')\n",
        "                .css('cursor', 'pointer')\n",
        "                .css('textAlign', 'center')\n",
        "                .appendTo($(controlDiv));\n",
        "            \n",
        "            // Set CSS for the control interior.\n",
        "            var $controlContents = $('<div />')\n",
        "                .css('fontFamily', 'Arial,sans-serif')\n",
        "                .css('fontSize', '12px')\n",
        "                .css('paddingLeft', '4px')\n",
        "                .css('paddingRight', '4px')\n",
        "                .css('paddingTop', '0px')\n",
        "                .css('paddingBottom', '0px')\n",
        "                .appendTo($controlUI);\n",
        "            \n",
        "            this.$controlTable = $('<table />')\n",
        "                .append($('<tr><td colspan=2>Layers</td></tr>'))\n",
        "                .appendTo($controlContents);\n",
        "        },\n",
        "\n",
        "        initializeLayersControl: function() {\n",
        "            var doc = this.$iframe[0].contentDocument;\n",
        "            var win = this.$iframe[0].contentWindow;\n",
        "\n",
        "            // Create the DIV to hold the control and call the LayersControl() constructor\n",
        "            // passing in this DIV.\n",
        "    \n",
        "            var layersControlDiv = document.createElement('div');\n",
        "            this.layersControl = new this.LayersControl(this, layersControlDiv, this.map);\n",
        "\n",
        "            layersControlDiv.index = 1;\n",
        "            this.map.controls[win.google.maps.ControlPosition.TOP_RIGHT].push(layersControlDiv);\n",
        "        },\n",
        "        \n",
        "        // Map geometry changed (pan, zoom, resize)\n",
        "        handleBoundsChanged: function() {\n",
        "            this.model.set('lng', this.map.getCenter().lng());\n",
        "            this.model.set('lat', this.map.getCenter().lat());\n",
        "            this.model.set('zoom', this.map.getZoom());\n",
        "            var bounds = this.map.getBounds();\n",
        "            var playgroundCompatible = [bounds.getSouthWest().lng(), bounds.getSouthWest().lat(),\n",
        "                                        bounds.getNorthEast().lng(), bounds.getNorthEast().lat()];\n",
        "            this.model.set('bounds', playgroundCompatible);\n",
        "            this.touch();\n",
        "        },\n",
        "        \n",
        "        // Receive custom messages from Python backend\n",
        "        on_msg: function(msg) {\n",
        "            var win = this.$iframe[0].contentWindow;\n",
        "            if (msg.command == 'addLayer') {\n",
        "                this.addLayer(msg.mapid, msg.token, msg.name, msg.visible);\n",
        "            } else if (msg.command == 'center') {\n",
        "                this.map.setCenter(new win.google.maps.LatLng(msg.lat, msg.lng));\n",
        "                if (msg.zoom !== null) {\n",
        "                    this.map.setZoom(msg.zoom);\n",
        "                }\n",
        "            }\n",
        "        },\n",
        "        \n",
        "        // Add an Earth Engine layer\n",
        "        addLayer: function(mapid, token, name, visible) {\n",
        "            var win = this.$iframe[0].contentWindow;\n",
        "            var eeMapOptions = {\n",
        "                getTileUrl: function(tile, zoom) {\n",
        "                    var url = ['https://earthengine.googleapis.com/map',\n",
        "                               mapid, zoom, tile.x, tile.y].join(\"/\");\n",
        "                    url += '?token=' + token\n",
        "                    return url;\n",
        "                },\n",
        "                tileSize: new win.google.maps.Size(256, 256),\n",
        "                opacity: visible ? 1.0 : 0.0,\n",
        "            };\n",
        "            \n",
        "            // Create the overlay map type\n",
        "            var mapType = new win.google.maps.ImageMapType(eeMapOptions);\n",
        "                \n",
        "            // Overlay the Earth Engine generated layer\n",
        "            this.map.overlayMapTypes.push(mapType);\n",
        "\n",
        "            // Update layer visibility control\n",
        "            var maxSlider = 100;\n",
        "            \n",
        "            function updateOpacity() {\n",
        "                mapType.setOpacity($checkbox[0].checked ? $slider[0].value / 100.0 : 0);\n",
        "            }\n",
        "            \n",
        "            var $checkbox = $('<input type=\"checkbox\">')\n",
        "                .prop('checked', visible)\n",
        "                .change(updateOpacity);\n",
        "            \n",
        "            var $slider = $('<input type=\"range\" />')\n",
        "                .prop('min', 0)\n",
        "                .prop('max', maxSlider)\n",
        "                .prop('value', maxSlider)\n",
        "                .css('width', '60px')\n",
        "                .on('input', updateOpacity);\n",
        "\n",
        "            // If user doesn't specify a layer name, create a default\n",
        "            if (name === null) {\n",
        "                name = 'Layer ' + this.map.overlayMapTypes.length;\n",
        "            }\n",
        "            \n",
        "            var $row = $('<tr />');\n",
        "            $('<td align=\"left\" />').append($checkbox).append(name).appendTo($row);\n",
        "            $('<td />').append($slider).appendTo($row);\n",
        "\n",
        "            this.layersControl.$controlTable.append($row);\n",
        "        }\n",
        "    });\n",
        "    \n",
        "    // Register the GoogleMapsView with the widget manager.\n",
        "    WidgetManager.register_widget_view('GoogleMapsView', GoogleMapsView);\n",
        "});"
       ],
       "metadata": {},
       "output_type": "display_data",
       "text": [
        "<IPython.core.display.Javascript at 0x7fbc10053350>"
       ]
      }
     ],
     "prompt_number": 3
    },
    {
     "cell_type": "code",
     "collapsed": false,
     "input": [
      "def applyCSmask(image): \n",
      "    shadowMask = image.expression(\"b('B1')<200& b('B2')<400& b('B3')<300& b('B4')<2000& b('B5')<700& b('B7')<300\").eq(0);\n",
      "    shadowBuffer = shadowMask.reduceNeighborhood(ee.call('Reducer.allNonZero'),ee.call('Kernel.circle',0.5)).focal_min(5);\n",
      "    cloudMask = image.expression(\"b('B1')>380& b('B2')>499 &b('B3')>375 & b('B4')>2850& b('B5')>1200& b('B7')>500\").eq(0);\n",
      "    cloudBuffer = cloudMask.reduceNeighborhood(ee.call('Reducer.allNonZero'),ee.call('Kernel.circle',0.5)).focal_min(5);\n",
      "    combinedMask = shadowBuffer.And(cloudBuffer).neq(0);  \n",
      "    image = image.mask(combinedMask)\n",
      "    return image \n",
      "\n",
      "def applyHansenMask(image):\n",
      "    hansenDataMask = ee.Image('UMD/hansen/global_forest_change_2013').select('datamask');\n",
      "    hansenMaskSmooth = hansenDataMask.reduceNeighborhood('max',ee.call('Kernel.euclidean',3)).focal_max(iterations=1).focal_min(iterations=3).focal_max().eq(1);\n",
      "\n",
      "    forestMask = ee.Image(\"MCD12Q1/MCD12Q1_005_2009_01_01\").select('Land_Cover_Type_1').eq(2).focal_min(radius=3, iterations=2);\n",
      "          \n",
      "    ##necessary to combine masks, otherwise applying one mask will disregard previously applied masks\n",
      "    combinedMask = image.mask().And(hansenMaskSmooth).And(forestMask);  \n",
      "    image = image.mask(combinedMask);\n",
      "    return image;\n",
      "\n",
      "def applySoilMask(image):\n",
      "    imageMasked = image.And(image.mask(image.select('B7').gte(1550).focal_min(5))); #remove soil dominated pixels\n",
      "    soil = image.expression(\"b('B7')>1550\").eq(0).focal_min(5);\n",
      "    combinedMask = image.mask().And(soil);\n",
      "    image = image.mask(combinedMask);\n",
      "    return image;\n",
      "\n",
      "def applyAnomPixelMask(image):\n",
      "    imageMasked = image.mask().And(image.mask(image.select(['B5']).lte(4000).focal_min(20)));\n",
      "    anoms = image.expression(\" b('B5')>3000\").eq(0);\n",
      "    combinedMask = image.mask().And(anoms);\n",
      "    image = image.mask(combinedMask);\n",
      "    return image;\n",
      "\n",
      "#old b4 threshold<1750\n",
      "def applyWaterMask(image):\n",
      "    water = image.expression(\" b('B4')<2000\").eq(0).focal_max(10);\n",
      "    combinedMask = image.mask().And(water);\n",
      "    image = image.mask(combinedMask);\n",
      "    return image; \n",
      "\n",
      "#Trim the edges \n",
      "def trimEdges(image, distance): \n",
      "    buff = image.geometry().buffer(distance) \n",
      "    image = image.clip(buff) \n",
      "    return(image)\n",
      "\n",
      "visParamsSR =  {'min': '0, 0, 0', 'max': '3000, 4000, 1000', 'bands': 'B5,B4,B3'};#Add layers "
     ],
     "language": "python",
     "metadata": {},
     "outputs": [],
     "prompt_number": 41
    },
    {
     "cell_type": "markdown",
     "metadata": {},
     "source": [
      "## INPUTS!!!"
     ]
    },
    {
     "cell_type": "code",
     "collapsed": false,
     "input": [
      "import datetime\n",
      "collection = 'LT5_L1T_SR' \n",
      "inYear = 2011\n",
      "startDate = datetime.datetime(inYear, 7, 1); \n",
      "endDate = datetime.datetime(inYear,12,31);\n",
      "path = 7\n",
      "row = 62 \n",
      "CC = 50\n",
      "collectionSpec = ee.ImageCollection(collection)\n",
      "collectionSpec = (collectionSpec\n",
      "    .filterDate(startDate, endDate)\n",
      "    .filterMetadata('default:WRS_PATH', 'EQUALS', path)\n",
      "    .filterMetadata('default:WRS_ROW', 'EQUALS', row)\n",
      "    .filterMetadata('CLOUD_COVER','less_than',CC)) \n",
      "\n",
      "imageLast = ee.Image(collectionSpec.sort('system:time_start',False).first())\n",
      "sceneGeomBuff = imageLast.geometry().buffer(-6000)"
     ],
     "language": "python",
     "metadata": {},
     "outputs": [],
     "prompt_number": 70
    },
    {
     "cell_type": "code",
     "collapsed": false,
     "input": [
      "masked = applyCSmask(imageLast);\n",
      "masked = applyHansenMask(masked);\n",
      "masked = applySoilMask(masked); \n",
      "masked = applyAnomPixelMask(masked);\n",
      "masked = applyWaterMask(masked);\n",
      "\n",
      "# anthroPoly = ee.FeatureCollection('ft:1rJT6SWmCN6hNJxhroEVYdbXv3NWX9nJk0stZR1Zh'); #old \n",
      "anthroPoly = ee.FeatureCollection('ft:1AyC24HNHPO3hMGG6Bs8I8vVEOreOq6KNkVO_RQJV'); \n",
      "\n",
      "#Start with a black image.\n",
      "image1 = ee.Image(1).toByte();\n",
      "#Fill and outline the polygons in two colors\n",
      "image2 = image1.paint(anthroPoly, 0);\n",
      "combinedMask = masked.mask().And(image2)\n",
      "total = masked.mask(combinedMask); \n",
      "total = total.clip(sceneGeomBuff);"
     ],
     "language": "python",
     "metadata": {},
     "outputs": [],
     "prompt_number": 71
    },
    {
     "cell_type": "code",
     "collapsed": false,
     "input": [
      "visParamsSR =  {'min': '0, 0, 0', 'max': '3000, 4000, 1000', 'bands': 'B5,B4,B3'};#Add layers \n",
      "Gmap = GoogleMapsWidget(lat=-3.46, lng=-75.163, zoom=9)\n",
      "display(Gmap) \n",
      "Gmap.addLayer(image=total, vis_params=visParamsSR, name=\"SR masked\") \n"
     ],
     "language": "python",
     "metadata": {},
     "outputs": [],
     "prompt_number": 72
    },
    {
     "cell_type": "code",
     "collapsed": false,
     "input": [
      "##******* SMA ******************\n",
      "toUnmix = total.select(['B1','B2','B3','B4','B5','B7']);\n",
      "#Define Endmembers \n",
      "#old bdEM = [514, 803, 772, 2309, 2481, 1433]; \n",
      "bdEM = [420, 613, 762, 2403, 2568, 1460];\n",
      "soilEM = [484, 661, 775, 1720, 2664, 1880];\n",
      "forestEM = [200, 445, 254, 3213, 1404, 464]; \n",
      "forestSecEM = [237, 481, 283, 4938, 1918, 637];\n",
      "shadowEM = [296, 402, 307, 466, 68, 49];  \n",
      "waterEM = [687, 1198, 1520, 1501, 68, 83]; \n",
      "forestHazeEM = [424, 648, 498, 3131, 1417, 606];\n",
      "wetlandSoilEM = [293, 608, 470, 2611, 1783, 743];\n",
      "\n",
      "## Apply SMA \n",
      "unmixBD = toUnmix.unmix([bdEM, forestEM, soilEM, forestHazeEM]);\n",
      "unmixForest = toUnmix.unmix([bdEM, forestEM, forestSecEM]);\n",
      "unmixSoils = toUnmix.unmix([bdEM, wetlandSoilEM, soilEM]);\n",
      "unmixHaze = toUnmix.unmix([forestHazeEM,forestEM,forestSecEM]);\n",
      "\"\"\"bdReal = (unmixBD.select(['band_0']).gte(0.2) #BD-bd\n",
      "    .And(unmixHaze.select(['band_0']).lte(0.05)) #Haze-BD\n",
      "    .And(unmixBD.select(['band_2']).lte(0.8)) # BD-soil\n",
      "    .And(unmixForest.select(['band_0']).gte(0.2))); # Forest-bd\"\"\"\n",
      "#filters - developing\n",
      "bdReal = (unmixForest.select(['band_0']).gte(0.15) #BD-bd\n",
      "    .And(unmixHaze.select(['band_0']).lte(0.05)) #Haze-BD\n",
      "    .And(unmixBD.select(['band_2']).lte(0.5)) # BD-soil\n",
      "    .And(unmixBD.select(['band_0']).gte(0.1)));# Forest-bd \n",
      "    #.And(unmixSoils.select(['band_1'])).gte(0.2)\n",
      "#old bdRealSmooth = bdReal.focal_max(3).focal_mode(3).eq(1).focal_max(2).focal_min(2).focal_max(2).focal_max(1);\n",
      "bdRealSmooth = (bdReal.focal_max(2).focal_mode(3,\"circle\",\"pixels\",5,None).focal_max(5).eq(1).focal_min(1).focal_max(2)\n",
      "                .focal_mode(3,\"circle\",\"pixels\",5,None));\n",
      "blank = ee.Image(0); \n",
      "blank = blank.And(bdRealSmooth.eq(1)); \n",
      "\n",
      "output = ee.Image(0).where(bdRealSmooth.eq(1),1)"
     ],
     "language": "python",
     "metadata": {},
     "outputs": [],
     "prompt_number": 73
    },
    {
     "cell_type": "code",
     "collapsed": false,
     "input": [
      "Gmap = GoogleMapsWidget(lat=-3.46, lng=-75.163, zoom=12)\n",
      "display(Gmap) \n",
      "Gmap.addLayer(image=total, vis_params=visParamsSR, name=\"SR masked\")\n",
      "Gmap.addLayer(image=bdRealSmooth, name=\"BD-smoothed\",visible=True)\n",
      "visBD =  {'palette':'000000,FF0000','min':0,'max':1}; \n",
      "Gmap.addLayer(image=bdReal, name=\"BD\")\n",
      "#map.addLayer(bdLab, name=\"BD-redToVec\")\n",
      "#visBDvecParams =  {'color':'FF0000'}; \n",
      "#Gmap.addLayer(bdVectorsFiltered, vis_params=visBDvecParams, name=\"BD vectors - filtered\",visible=True)\n"
     ],
     "language": "python",
     "metadata": {},
     "outputs": [],
     "prompt_number": 74
    },
    {
     "cell_type": "code",
     "collapsed": false,
     "input": [
      "region = total.geometry(50); \n",
      "bdVectors = output.eq(1).reduceToVectors(geometry=region, scale=30, geometryType='polygon',\n",
      "                                         maxPixels=30000000,bestEffort= True,tileScale= 4, \n",
      "                                         eightConnected=False); \n",
      "\n",
      "\n",
      "# Calc the area of each polygon in the feature collection\n",
      "def getArea(f):\n",
      "    return f.set({'area': f.convexHull(5).area(5)});\n",
      "# map the function over each feature in the collection\n",
      "bdVectors = bdVectors.map(getArea); \n",
      "\n",
      "# filtering out the too large and too small from the blowdown vectors \n",
      "bdVectorsFiltered = (bdVectors.filterMetadata('area', 'greater_than', 150000)\n",
      "                        .filterMetadata('area', 'less_than', 50e6));\n",
      "\n"
     ],
     "language": "python",
     "metadata": {},
     "outputs": [],
     "prompt_number": 93
    },
    {
     "cell_type": "code",
     "collapsed": false,
     "input": [
      "Gmap = GoogleMapsWidget(lat=-2.93, lng=-75.32, zoom=13)\n",
      "display(Gmap) \n",
      "Gmap.addLayer(image=bdRealSmooth, name=\"BD-on/off\",visible=False)\n",
      "Gmap.addLayer(image=total, vis_params=visParamsSR, name=\"SR masked\")\n",
      "#map.addLayer(bdLab, name=\"BD-redToVec\")\n",
      "visBDvecParams =  {'color':'FF0000'}; \n",
      "Gmap.addLayer(bdVectorsFiltered, vis_params=visBDvecParams, name=\"BD vectors - filtered\",visible=True)\n",
      "Gmap.addLayer(bdVectors, vis_params={'color':'0000FF'}, name=\"BD vectors - unfiltered\",visible=False)\n",
      "\n"
     ],
     "language": "python",
     "metadata": {},
     "outputs": [],
     "prompt_number": 73
    },
    {
     "cell_type": "code",
     "collapsed": false,
     "input": [
      "# Add the mean NPV attribute to the FeatureCollection\n",
      "NPV = unmixForest.select(['band_0'],['NPV']);\n",
      "mean_reducer = ee.call(\"Reducer.mean\"); \n",
      "def getNPV(f):\n",
      "  meanNPV = 0;\n",
      "  #meanNPV = unmixBD.select(['band_0']).reduceRegion(mean_reducer, f.convexHull(5).geometry(),60);\n",
      "  meanNPV = NPV.reduceRegion(mean_reducer, f.convexHull(5).geometry(),30);\n",
      "  return f.set({'meanNPV': f.set(meanNPV).get('NPV')});\n",
      "bdVectorsFiltered = bdVectorsFiltered.map(getNPV);\n",
      "bdVectorsFiltered = bdVectorsFiltered.filterMetadata('meanNPV','not_equals',None);\n",
      "bdVectorsFiltered = bdVectorsFiltered.filterMetadata('meanNPV', 'greater_than', 0.0);\n",
      "\n",
      "# Add the mean Forest attribute to the FeatureCollection\n",
      "GV = unmixForest.select(['band_1'],['GV']);\n",
      "mean_reducer = ee.call(\"Reducer.mean\"); \n",
      "def getGV(f):\n",
      "  meanGV = 0;\n",
      "  #meanNPV = unmixBD.select(['band_0']).reduceRegion(mean_reducer, f.convexHull(5).geometry(),60);\n",
      "  meanGV = GV.reduceRegion(mean_reducer, f.convexHull(5).geometry(),30);\n",
      "  return f.set({'meanGV': f.set(meanGV).get('GV')});\n",
      "bdVectorsFiltered = bdVectorsFiltered.map(getGV);\n",
      "#bdVectorsFiltered = bdVectorsFiltered.filterMetadata('meanGV', 'greater_than', 0.03);\n",
      "\n",
      "# Add the mean WetSoil attribute to the FeatureCollection\n",
      "WetSoil = unmixSoils.select(['band_1'],['WetSoil']);\n",
      "mean_reducer = ee.call(\"Reducer.mean\"); \n",
      "def getWetSoil(f):\n",
      "  meanWetSoil = 0;\n",
      "  #meanNPV = unmixBD.select(['band_0']).reduceRegion(mean_reducer, f.convexHull(5).geometry(),60);\n",
      "  meanWetSoil = WetSoil.reduceRegion(mean_reducer, f.convexHull(5).geometry(),30);\n",
      "  return f.set({'meanWetSoil': f.set(meanWetSoil).get('WetSoil')});\n",
      "bdVectorsFiltered = bdVectorsFiltered.map(getWetSoil);\n",
      "#bdVectorsFiltered = bdVectorsFiltered.filterMetadata('meanWetSoil', 'greater_than', 0.03);\n"
     ],
     "language": "python",
     "metadata": {},
     "outputs": [],
     "prompt_number": 94
    },
    {
     "cell_type": "code",
     "collapsed": false,
     "input": [
      "\"\"\"imageForest = total.select('B4').gte(1000)\n",
      "pixNum = imageForest.multiply(ee.Image.pixelArea())\n",
      "stats_raster = pixNum.reduceRegion(reducer=ee.call(\"Reducer.sum\"),scale=30,maxPixels=1e10)\n",
      "forest_area = stats_raster.getInfo()\n",
      "\"\"\" \n",
      "forest_area = total.select('B4').multiply(ee.Image.pixelArea()) #Nearly all remaining pixels are forest\n"
     ],
     "language": "python",
     "metadata": {},
     "outputs": []
    },
    {
     "cell_type": "code",
     "collapsed": false,
     "input": [
      "landsat_id = imageLast.getInfo()['id']\n",
      "landsat_id = landsat_id.split(\"/\")[1] \n",
      "print(landsat_id)"
     ],
     "language": "python",
     "metadata": {},
     "outputs": [
      {
       "output_type": "stream",
       "stream": "stdout",
       "text": [
        "LT50070622011258CUB00\n"
       ]
      }
     ],
     "prompt_number": 14
    },
    {
     "cell_type": "code",
     "collapsed": false,
     "input": [
      "def getLSID(f): \n",
      "    return f.set({'LS_ID':landsat_id}) \n",
      "\n",
      "bdVectorsFiltered = bdVectorsFiltered.map(getLSID)"
     ],
     "language": "python",
     "metadata": {},
     "outputs": [],
     "prompt_number": 95
    },
    {
     "cell_type": "code",
     "collapsed": false,
     "input": [
      "forest_area_m2 = forest_area[\"band_1\"]\n",
      "#set the forest area into the shapefile\n",
      "def getForArea(f): \n",
      "    return f.set({'scene_forest_area':forest_area_m2}) \n",
      "bdVectorsFiltered = bdVectorsFiltered.map(getForArea);"
     ],
     "language": "python",
     "metadata": {},
     "outputs": [],
     "prompt_number": 96
    },
    {
     "cell_type": "code",
     "collapsed": false,
     "input": [
      "Gmap = GoogleMapsWidget(lat=-2.93, lng=-75.32, zoom=13)\n",
      "display(Gmap) \n",
      "Gmap.addLayer(image=bdRealSmooth, name=\"BD-on/off\",visible=False)\n",
      "Gmap.addLayer(image=total, vis_params=visParamsSR, name=\"SR masked\")\n",
      "#map.addLayer(bdLab, name=\"BD-redToVec\")\n",
      "visBDvecParams =  {'color':'FF0000'}; \n",
      "Gmap.addLayer(bdVectorsFiltered, vis_params=visBDvecParams, name=\"BD vectors - filtered\",visible=False)\n"
     ],
     "language": "python",
     "metadata": {},
     "outputs": [],
     "prompt_number": 17
    },
    {
     "cell_type": "code",
     "collapsed": false,
     "input": [
      "bdVectorsFiltered.getInfo()['features'].__len__()"
     ],
     "language": "python",
     "metadata": {},
     "outputs": [
      {
       "ename": "KeyboardInterrupt",
       "evalue": "",
       "output_type": "pyerr",
       "traceback": [
        "\u001b[1;31m---------------------------------------------------------------------------\u001b[0m\n\u001b[1;31mKeyboardInterrupt\u001b[0m                         Traceback (most recent call last)",
        "\u001b[1;32m<ipython-input-97-5a65a3e721c8>\u001b[0m in \u001b[0;36m<module>\u001b[1;34m()\u001b[0m\n\u001b[1;32m----> 1\u001b[1;33m \u001b[0mbdVectorsFiltered\u001b[0m\u001b[1;33m.\u001b[0m\u001b[0mgetInfo\u001b[0m\u001b[1;33m(\u001b[0m\u001b[1;33m)\u001b[0m\u001b[1;33m[\u001b[0m\u001b[1;34m'features'\u001b[0m\u001b[1;33m]\u001b[0m\u001b[1;33m.\u001b[0m\u001b[0m__len__\u001b[0m\u001b[1;33m(\u001b[0m\u001b[1;33m)\u001b[0m\u001b[1;33m\u001b[0m\u001b[0m\n\u001b[0m",
        "\u001b[1;32m/usr/local/lib/python2.7/dist-packages/ee/collection.pyc\u001b[0m in \u001b[0;36mgetInfo\u001b[1;34m(self)\u001b[0m\n\u001b[0;32m    122\u001b[0m            \u001b[0mproperties\u001b[0m\u001b[1;33m.\u001b[0m\u001b[1;33m\u001b[0m\u001b[0m\n\u001b[0;32m    123\u001b[0m     \"\"\"\n\u001b[1;32m--> 124\u001b[1;33m     \u001b[1;32mreturn\u001b[0m \u001b[0msuper\u001b[0m\u001b[1;33m(\u001b[0m\u001b[0mCollection\u001b[0m\u001b[1;33m,\u001b[0m \u001b[0mself\u001b[0m\u001b[1;33m)\u001b[0m\u001b[1;33m.\u001b[0m\u001b[0mgetInfo\u001b[0m\u001b[1;33m(\u001b[0m\u001b[1;33m)\u001b[0m\u001b[1;33m\u001b[0m\u001b[0m\n\u001b[0m\u001b[0;32m    125\u001b[0m \u001b[1;33m\u001b[0m\u001b[0m\n\u001b[0;32m    126\u001b[0m   \u001b[1;32mdef\u001b[0m \u001b[0mlimit\u001b[0m\u001b[1;33m(\u001b[0m\u001b[0mself\u001b[0m\u001b[1;33m,\u001b[0m \u001b[0mmaximum\u001b[0m\u001b[1;33m,\u001b[0m \u001b[0mopt_property\u001b[0m\u001b[1;33m=\u001b[0m\u001b[0mNone\u001b[0m\u001b[1;33m,\u001b[0m \u001b[0mopt_ascending\u001b[0m\u001b[1;33m=\u001b[0m\u001b[0mNone\u001b[0m\u001b[1;33m)\u001b[0m\u001b[1;33m:\u001b[0m\u001b[1;33m\u001b[0m\u001b[0m\n",
        "\u001b[1;32m/usr/local/lib/python2.7/dist-packages/ee/computedobject.pyc\u001b[0m in \u001b[0;36mgetInfo\u001b[1;34m(self)\u001b[0m\n\u001b[0;32m     86\u001b[0m       \u001b[0mThe\u001b[0m \u001b[0mobject\u001b[0m \u001b[0mcan\u001b[0m \u001b[0mevaluate\u001b[0m \u001b[0mto\u001b[0m \u001b[0manything\u001b[0m\u001b[1;33m.\u001b[0m\u001b[1;33m\u001b[0m\u001b[0m\n\u001b[0;32m     87\u001b[0m     \"\"\"\n\u001b[1;32m---> 88\u001b[1;33m     \u001b[1;32mreturn\u001b[0m \u001b[0mdata\u001b[0m\u001b[1;33m.\u001b[0m\u001b[0mgetValue\u001b[0m\u001b[1;33m(\u001b[0m\u001b[1;33m{\u001b[0m\u001b[1;34m'json'\u001b[0m\u001b[1;33m:\u001b[0m \u001b[0mself\u001b[0m\u001b[1;33m.\u001b[0m\u001b[0mserialize\u001b[0m\u001b[1;33m(\u001b[0m\u001b[1;33m)\u001b[0m\u001b[1;33m}\u001b[0m\u001b[1;33m)\u001b[0m\u001b[1;33m\u001b[0m\u001b[0m\n\u001b[0m\u001b[0;32m     89\u001b[0m \u001b[1;33m\u001b[0m\u001b[0m\n\u001b[0;32m     90\u001b[0m   \u001b[1;32mdef\u001b[0m \u001b[0mencode\u001b[0m\u001b[1;33m(\u001b[0m\u001b[0mself\u001b[0m\u001b[1;33m,\u001b[0m \u001b[0mencoder\u001b[0m\u001b[1;33m)\u001b[0m\u001b[1;33m:\u001b[0m\u001b[1;33m\u001b[0m\u001b[0m\n",
        "\u001b[1;32m/usr/local/lib/python2.7/dist-packages/ee/data.pyc\u001b[0m in \u001b[0;36mgetValue\u001b[1;34m(params)\u001b[0m\n\u001b[0;32m    181\u001b[0m   \"\"\"\n\u001b[0;32m    182\u001b[0m   \u001b[0mparams\u001b[0m\u001b[1;33m[\u001b[0m\u001b[1;34m'json_format'\u001b[0m\u001b[1;33m]\u001b[0m \u001b[1;33m=\u001b[0m \u001b[1;34m'v2'\u001b[0m\u001b[1;33m\u001b[0m\u001b[0m\n\u001b[1;32m--> 183\u001b[1;33m   \u001b[1;32mreturn\u001b[0m \u001b[0msend_\u001b[0m\u001b[1;33m(\u001b[0m\u001b[1;34m'/value'\u001b[0m\u001b[1;33m,\u001b[0m \u001b[0mparams\u001b[0m\u001b[1;33m)\u001b[0m\u001b[1;33m\u001b[0m\u001b[0m\n\u001b[0m\u001b[0;32m    184\u001b[0m \u001b[1;33m\u001b[0m\u001b[0m\n\u001b[0;32m    185\u001b[0m \u001b[1;33m\u001b[0m\u001b[0m\n",
        "\u001b[1;32m/usr/local/lib/python2.7/dist-packages/ee/data.pyc\u001b[0m in \u001b[0;36msend_\u001b[1;34m(path, params, opt_method, opt_raw)\u001b[0m\n\u001b[0;32m    463\u001b[0m   \u001b[1;32mtry\u001b[0m\u001b[1;33m:\u001b[0m\u001b[1;33m\u001b[0m\u001b[0m\n\u001b[0;32m    464\u001b[0m     response, content = http.request(url, method=opt_method, body=payload,\n\u001b[1;32m--> 465\u001b[1;33m                                      headers=headers)\n\u001b[0m\u001b[0;32m    466\u001b[0m   \u001b[1;32mexcept\u001b[0m \u001b[0mhttplib2\u001b[0m\u001b[1;33m.\u001b[0m\u001b[0mHttpLib2Error\u001b[0m\u001b[1;33m,\u001b[0m \u001b[0me\u001b[0m\u001b[1;33m:\u001b[0m\u001b[1;33m\u001b[0m\u001b[0m\n\u001b[0;32m    467\u001b[0m     raise ee_exception.EEException(\n",
        "\u001b[1;32m/usr/local/lib/python2.7/dist-packages/oauth2client/util.pyc\u001b[0m in \u001b[0;36mpositional_wrapper\u001b[1;34m(*args, **kwargs)\u001b[0m\n\u001b[0;32m    127\u001b[0m         \u001b[1;32melse\u001b[0m\u001b[1;33m:\u001b[0m \u001b[1;31m# IGNORE\u001b[0m\u001b[1;33m\u001b[0m\u001b[0m\n\u001b[0;32m    128\u001b[0m           \u001b[1;32mpass\u001b[0m\u001b[1;33m\u001b[0m\u001b[0m\n\u001b[1;32m--> 129\u001b[1;33m       \u001b[1;32mreturn\u001b[0m \u001b[0mwrapped\u001b[0m\u001b[1;33m(\u001b[0m\u001b[1;33m*\u001b[0m\u001b[0margs\u001b[0m\u001b[1;33m,\u001b[0m \u001b[1;33m**\u001b[0m\u001b[0mkwargs\u001b[0m\u001b[1;33m)\u001b[0m\u001b[1;33m\u001b[0m\u001b[0m\n\u001b[0m\u001b[0;32m    130\u001b[0m     \u001b[1;32mreturn\u001b[0m \u001b[0mpositional_wrapper\u001b[0m\u001b[1;33m\u001b[0m\u001b[0m\n\u001b[0;32m    131\u001b[0m \u001b[1;33m\u001b[0m\u001b[0m\n",
        "\u001b[1;32m/usr/local/lib/python2.7/dist-packages/oauth2client/client.pyc\u001b[0m in \u001b[0;36mnew_request\u001b[1;34m(uri, method, body, headers, redirections, connection_type)\u001b[0m\n\u001b[0;32m    531\u001b[0m \u001b[1;33m\u001b[0m\u001b[0m\n\u001b[0;32m    532\u001b[0m       resp, content = request_orig(uri, method, body, clean_headers(headers),\n\u001b[1;32m--> 533\u001b[1;33m                                    redirections, connection_type)\n\u001b[0m\u001b[0;32m    534\u001b[0m \u001b[1;33m\u001b[0m\u001b[0m\n\u001b[0;32m    535\u001b[0m       \u001b[1;32mif\u001b[0m \u001b[0mresp\u001b[0m\u001b[1;33m.\u001b[0m\u001b[0mstatus\u001b[0m \u001b[1;32min\u001b[0m \u001b[0mREFRESH_STATUS_CODES\u001b[0m\u001b[1;33m:\u001b[0m\u001b[1;33m\u001b[0m\u001b[0m\n",
        "\u001b[1;32m/usr/lib/python2.7/dist-packages/httplib2/__init__.pyc\u001b[0m in \u001b[0;36mrequest\u001b[1;34m(self, uri, method, body, headers, redirections, connection_type)\u001b[0m\n\u001b[0;32m   1567\u001b[0m                     \u001b[0mcontent\u001b[0m \u001b[1;33m=\u001b[0m \u001b[1;34m\"\"\u001b[0m\u001b[1;33m\u001b[0m\u001b[0m\n\u001b[0;32m   1568\u001b[0m                 \u001b[1;32melse\u001b[0m\u001b[1;33m:\u001b[0m\u001b[1;33m\u001b[0m\u001b[0m\n\u001b[1;32m-> 1569\u001b[1;33m                     \u001b[1;33m(\u001b[0m\u001b[0mresponse\u001b[0m\u001b[1;33m,\u001b[0m \u001b[0mcontent\u001b[0m\u001b[1;33m)\u001b[0m \u001b[1;33m=\u001b[0m \u001b[0mself\u001b[0m\u001b[1;33m.\u001b[0m\u001b[0m_request\u001b[0m\u001b[1;33m(\u001b[0m\u001b[0mconn\u001b[0m\u001b[1;33m,\u001b[0m \u001b[0mauthority\u001b[0m\u001b[1;33m,\u001b[0m \u001b[0muri\u001b[0m\u001b[1;33m,\u001b[0m \u001b[0mrequest_uri\u001b[0m\u001b[1;33m,\u001b[0m \u001b[0mmethod\u001b[0m\u001b[1;33m,\u001b[0m \u001b[0mbody\u001b[0m\u001b[1;33m,\u001b[0m \u001b[0mheaders\u001b[0m\u001b[1;33m,\u001b[0m \u001b[0mredirections\u001b[0m\u001b[1;33m,\u001b[0m \u001b[0mcachekey\u001b[0m\u001b[1;33m)\u001b[0m\u001b[1;33m\u001b[0m\u001b[0m\n\u001b[0m\u001b[0;32m   1570\u001b[0m         \u001b[1;32mexcept\u001b[0m \u001b[0mException\u001b[0m\u001b[1;33m,\u001b[0m \u001b[0me\u001b[0m\u001b[1;33m:\u001b[0m\u001b[1;33m\u001b[0m\u001b[0m\n\u001b[0;32m   1571\u001b[0m             \u001b[1;32mif\u001b[0m \u001b[0mself\u001b[0m\u001b[1;33m.\u001b[0m\u001b[0mforce_exception_to_status_code\u001b[0m\u001b[1;33m:\u001b[0m\u001b[1;33m\u001b[0m\u001b[0m\n",
        "\u001b[1;32m/usr/lib/python2.7/dist-packages/httplib2/__init__.pyc\u001b[0m in \u001b[0;36m_request\u001b[1;34m(self, conn, host, absolute_uri, request_uri, method, body, headers, redirections, cachekey)\u001b[0m\n\u001b[0;32m   1314\u001b[0m             \u001b[0mauth\u001b[0m\u001b[1;33m.\u001b[0m\u001b[0mrequest\u001b[0m\u001b[1;33m(\u001b[0m\u001b[0mmethod\u001b[0m\u001b[1;33m,\u001b[0m \u001b[0mrequest_uri\u001b[0m\u001b[1;33m,\u001b[0m \u001b[0mheaders\u001b[0m\u001b[1;33m,\u001b[0m \u001b[0mbody\u001b[0m\u001b[1;33m)\u001b[0m\u001b[1;33m\u001b[0m\u001b[0m\n\u001b[0;32m   1315\u001b[0m \u001b[1;33m\u001b[0m\u001b[0m\n\u001b[1;32m-> 1316\u001b[1;33m         \u001b[1;33m(\u001b[0m\u001b[0mresponse\u001b[0m\u001b[1;33m,\u001b[0m \u001b[0mcontent\u001b[0m\u001b[1;33m)\u001b[0m \u001b[1;33m=\u001b[0m \u001b[0mself\u001b[0m\u001b[1;33m.\u001b[0m\u001b[0m_conn_request\u001b[0m\u001b[1;33m(\u001b[0m\u001b[0mconn\u001b[0m\u001b[1;33m,\u001b[0m \u001b[0mrequest_uri\u001b[0m\u001b[1;33m,\u001b[0m \u001b[0mmethod\u001b[0m\u001b[1;33m,\u001b[0m \u001b[0mbody\u001b[0m\u001b[1;33m,\u001b[0m \u001b[0mheaders\u001b[0m\u001b[1;33m)\u001b[0m\u001b[1;33m\u001b[0m\u001b[0m\n\u001b[0m\u001b[0;32m   1317\u001b[0m \u001b[1;33m\u001b[0m\u001b[0m\n\u001b[0;32m   1318\u001b[0m         \u001b[1;32mif\u001b[0m \u001b[0mauth\u001b[0m\u001b[1;33m:\u001b[0m\u001b[1;33m\u001b[0m\u001b[0m\n",
        "\u001b[1;32m/usr/lib/python2.7/dist-packages/httplib2/__init__.pyc\u001b[0m in \u001b[0;36m_conn_request\u001b[1;34m(self, conn, request_uri, method, body, headers)\u001b[0m\n\u001b[0;32m   1283\u001b[0m                     \u001b[1;32mcontinue\u001b[0m\u001b[1;33m\u001b[0m\u001b[0m\n\u001b[0;32m   1284\u001b[0m             \u001b[1;32mtry\u001b[0m\u001b[1;33m:\u001b[0m\u001b[1;33m\u001b[0m\u001b[0m\n\u001b[1;32m-> 1285\u001b[1;33m                 \u001b[0mresponse\u001b[0m \u001b[1;33m=\u001b[0m \u001b[0mconn\u001b[0m\u001b[1;33m.\u001b[0m\u001b[0mgetresponse\u001b[0m\u001b[1;33m(\u001b[0m\u001b[1;33m)\u001b[0m\u001b[1;33m\u001b[0m\u001b[0m\n\u001b[0m\u001b[0;32m   1286\u001b[0m             \u001b[1;32mexcept\u001b[0m \u001b[1;33m(\u001b[0m\u001b[0msocket\u001b[0m\u001b[1;33m.\u001b[0m\u001b[0merror\u001b[0m\u001b[1;33m,\u001b[0m \u001b[0mhttplib\u001b[0m\u001b[1;33m.\u001b[0m\u001b[0mHTTPException\u001b[0m\u001b[1;33m)\u001b[0m\u001b[1;33m:\u001b[0m\u001b[1;33m\u001b[0m\u001b[0m\n\u001b[0;32m   1287\u001b[0m                 \u001b[1;32mif\u001b[0m \u001b[0mi\u001b[0m \u001b[1;33m<\u001b[0m \u001b[0mRETRIES\u001b[0m\u001b[1;33m-\u001b[0m\u001b[1;36m1\u001b[0m\u001b[1;33m:\u001b[0m\u001b[1;33m\u001b[0m\u001b[0m\n",
        "\u001b[1;32m/usr/lib/python2.7/httplib.pyc\u001b[0m in \u001b[0;36mgetresponse\u001b[1;34m(self, buffering)\u001b[0m\n\u001b[0;32m   1043\u001b[0m         \u001b[0mresponse\u001b[0m \u001b[1;33m=\u001b[0m \u001b[0mself\u001b[0m\u001b[1;33m.\u001b[0m\u001b[0mresponse_class\u001b[0m\u001b[1;33m(\u001b[0m\u001b[1;33m*\u001b[0m\u001b[0margs\u001b[0m\u001b[1;33m,\u001b[0m \u001b[1;33m**\u001b[0m\u001b[0mkwds\u001b[0m\u001b[1;33m)\u001b[0m\u001b[1;33m\u001b[0m\u001b[0m\n\u001b[0;32m   1044\u001b[0m \u001b[1;33m\u001b[0m\u001b[0m\n\u001b[1;32m-> 1045\u001b[1;33m         \u001b[0mresponse\u001b[0m\u001b[1;33m.\u001b[0m\u001b[0mbegin\u001b[0m\u001b[1;33m(\u001b[0m\u001b[1;33m)\u001b[0m\u001b[1;33m\u001b[0m\u001b[0m\n\u001b[0m\u001b[0;32m   1046\u001b[0m         \u001b[1;32massert\u001b[0m \u001b[0mresponse\u001b[0m\u001b[1;33m.\u001b[0m\u001b[0mwill_close\u001b[0m \u001b[1;33m!=\u001b[0m \u001b[0m_UNKNOWN\u001b[0m\u001b[1;33m\u001b[0m\u001b[0m\n\u001b[0;32m   1047\u001b[0m         \u001b[0mself\u001b[0m\u001b[1;33m.\u001b[0m\u001b[0m__state\u001b[0m \u001b[1;33m=\u001b[0m \u001b[0m_CS_IDLE\u001b[0m\u001b[1;33m\u001b[0m\u001b[0m\n",
        "\u001b[1;32m/usr/lib/python2.7/httplib.pyc\u001b[0m in \u001b[0;36mbegin\u001b[1;34m(self)\u001b[0m\n\u001b[0;32m    407\u001b[0m         \u001b[1;31m# read until we get a non-100 response\u001b[0m\u001b[1;33m\u001b[0m\u001b[1;33m\u001b[0m\u001b[0m\n\u001b[0;32m    408\u001b[0m         \u001b[1;32mwhile\u001b[0m \u001b[0mTrue\u001b[0m\u001b[1;33m:\u001b[0m\u001b[1;33m\u001b[0m\u001b[0m\n\u001b[1;32m--> 409\u001b[1;33m             \u001b[0mversion\u001b[0m\u001b[1;33m,\u001b[0m \u001b[0mstatus\u001b[0m\u001b[1;33m,\u001b[0m \u001b[0mreason\u001b[0m \u001b[1;33m=\u001b[0m \u001b[0mself\u001b[0m\u001b[1;33m.\u001b[0m\u001b[0m_read_status\u001b[0m\u001b[1;33m(\u001b[0m\u001b[1;33m)\u001b[0m\u001b[1;33m\u001b[0m\u001b[0m\n\u001b[0m\u001b[0;32m    410\u001b[0m             \u001b[1;32mif\u001b[0m \u001b[0mstatus\u001b[0m \u001b[1;33m!=\u001b[0m \u001b[0mCONTINUE\u001b[0m\u001b[1;33m:\u001b[0m\u001b[1;33m\u001b[0m\u001b[0m\n\u001b[0;32m    411\u001b[0m                 \u001b[1;32mbreak\u001b[0m\u001b[1;33m\u001b[0m\u001b[0m\n",
        "\u001b[1;32m/usr/lib/python2.7/httplib.pyc\u001b[0m in \u001b[0;36m_read_status\u001b[1;34m(self)\u001b[0m\n\u001b[0;32m    363\u001b[0m     \u001b[1;32mdef\u001b[0m \u001b[0m_read_status\u001b[0m\u001b[1;33m(\u001b[0m\u001b[0mself\u001b[0m\u001b[1;33m)\u001b[0m\u001b[1;33m:\u001b[0m\u001b[1;33m\u001b[0m\u001b[0m\n\u001b[0;32m    364\u001b[0m         \u001b[1;31m# Initialize with Simple-Response defaults\u001b[0m\u001b[1;33m\u001b[0m\u001b[1;33m\u001b[0m\u001b[0m\n\u001b[1;32m--> 365\u001b[1;33m         \u001b[0mline\u001b[0m \u001b[1;33m=\u001b[0m \u001b[0mself\u001b[0m\u001b[1;33m.\u001b[0m\u001b[0mfp\u001b[0m\u001b[1;33m.\u001b[0m\u001b[0mreadline\u001b[0m\u001b[1;33m(\u001b[0m\u001b[0m_MAXLINE\u001b[0m \u001b[1;33m+\u001b[0m \u001b[1;36m1\u001b[0m\u001b[1;33m)\u001b[0m\u001b[1;33m\u001b[0m\u001b[0m\n\u001b[0m\u001b[0;32m    366\u001b[0m         \u001b[1;32mif\u001b[0m \u001b[0mlen\u001b[0m\u001b[1;33m(\u001b[0m\u001b[0mline\u001b[0m\u001b[1;33m)\u001b[0m \u001b[1;33m>\u001b[0m \u001b[0m_MAXLINE\u001b[0m\u001b[1;33m:\u001b[0m\u001b[1;33m\u001b[0m\u001b[0m\n\u001b[0;32m    367\u001b[0m             \u001b[1;32mraise\u001b[0m \u001b[0mLineTooLong\u001b[0m\u001b[1;33m(\u001b[0m\u001b[1;34m\"header line\"\u001b[0m\u001b[1;33m)\u001b[0m\u001b[1;33m\u001b[0m\u001b[0m\n",
        "\u001b[1;32m/usr/lib/python2.7/socket.pyc\u001b[0m in \u001b[0;36mreadline\u001b[1;34m(self, size)\u001b[0m\n\u001b[0;32m    474\u001b[0m             \u001b[1;32mwhile\u001b[0m \u001b[0mTrue\u001b[0m\u001b[1;33m:\u001b[0m\u001b[1;33m\u001b[0m\u001b[0m\n\u001b[0;32m    475\u001b[0m                 \u001b[1;32mtry\u001b[0m\u001b[1;33m:\u001b[0m\u001b[1;33m\u001b[0m\u001b[0m\n\u001b[1;32m--> 476\u001b[1;33m                     \u001b[0mdata\u001b[0m \u001b[1;33m=\u001b[0m \u001b[0mself\u001b[0m\u001b[1;33m.\u001b[0m\u001b[0m_sock\u001b[0m\u001b[1;33m.\u001b[0m\u001b[0mrecv\u001b[0m\u001b[1;33m(\u001b[0m\u001b[0mself\u001b[0m\u001b[1;33m.\u001b[0m\u001b[0m_rbufsize\u001b[0m\u001b[1;33m)\u001b[0m\u001b[1;33m\u001b[0m\u001b[0m\n\u001b[0m\u001b[0;32m    477\u001b[0m                 \u001b[1;32mexcept\u001b[0m \u001b[0merror\u001b[0m\u001b[1;33m,\u001b[0m \u001b[0me\u001b[0m\u001b[1;33m:\u001b[0m\u001b[1;33m\u001b[0m\u001b[0m\n\u001b[0;32m    478\u001b[0m                     \u001b[1;32mif\u001b[0m \u001b[0me\u001b[0m\u001b[1;33m.\u001b[0m\u001b[0margs\u001b[0m\u001b[1;33m[\u001b[0m\u001b[1;36m0\u001b[0m\u001b[1;33m]\u001b[0m \u001b[1;33m==\u001b[0m \u001b[0mEINTR\u001b[0m\u001b[1;33m:\u001b[0m\u001b[1;33m\u001b[0m\u001b[0m\n",
        "\u001b[1;32m/usr/lib/python2.7/ssl.pyc\u001b[0m in \u001b[0;36mrecv\u001b[1;34m(self, buflen, flags)\u001b[0m\n\u001b[0;32m    339\u001b[0m                     \u001b[1;34m\"non-zero flags not allowed in calls to recv() on %s\"\u001b[0m \u001b[1;33m%\u001b[0m\u001b[1;33m\u001b[0m\u001b[0m\n\u001b[0;32m    340\u001b[0m                     self.__class__)\n\u001b[1;32m--> 341\u001b[1;33m             \u001b[1;32mreturn\u001b[0m \u001b[0mself\u001b[0m\u001b[1;33m.\u001b[0m\u001b[0mread\u001b[0m\u001b[1;33m(\u001b[0m\u001b[0mbuflen\u001b[0m\u001b[1;33m)\u001b[0m\u001b[1;33m\u001b[0m\u001b[0m\n\u001b[0m\u001b[0;32m    342\u001b[0m         \u001b[1;32melse\u001b[0m\u001b[1;33m:\u001b[0m\u001b[1;33m\u001b[0m\u001b[0m\n\u001b[0;32m    343\u001b[0m             \u001b[1;32mreturn\u001b[0m \u001b[0mself\u001b[0m\u001b[1;33m.\u001b[0m\u001b[0m_sock\u001b[0m\u001b[1;33m.\u001b[0m\u001b[0mrecv\u001b[0m\u001b[1;33m(\u001b[0m\u001b[0mbuflen\u001b[0m\u001b[1;33m,\u001b[0m \u001b[0mflags\u001b[0m\u001b[1;33m)\u001b[0m\u001b[1;33m\u001b[0m\u001b[0m\n",
        "\u001b[1;32m/usr/lib/python2.7/ssl.pyc\u001b[0m in \u001b[0;36mread\u001b[1;34m(self, len)\u001b[0m\n\u001b[0;32m    258\u001b[0m \u001b[1;33m\u001b[0m\u001b[0m\n\u001b[0;32m    259\u001b[0m         \u001b[1;32mtry\u001b[0m\u001b[1;33m:\u001b[0m\u001b[1;33m\u001b[0m\u001b[0m\n\u001b[1;32m--> 260\u001b[1;33m             \u001b[1;32mreturn\u001b[0m \u001b[0mself\u001b[0m\u001b[1;33m.\u001b[0m\u001b[0m_sslobj\u001b[0m\u001b[1;33m.\u001b[0m\u001b[0mread\u001b[0m\u001b[1;33m(\u001b[0m\u001b[0mlen\u001b[0m\u001b[1;33m)\u001b[0m\u001b[1;33m\u001b[0m\u001b[0m\n\u001b[0m\u001b[0;32m    261\u001b[0m         \u001b[1;32mexcept\u001b[0m \u001b[0mSSLError\u001b[0m\u001b[1;33m,\u001b[0m \u001b[0mx\u001b[0m\u001b[1;33m:\u001b[0m\u001b[1;33m\u001b[0m\u001b[0m\n\u001b[0;32m    262\u001b[0m             \u001b[1;32mif\u001b[0m \u001b[0mx\u001b[0m\u001b[1;33m.\u001b[0m\u001b[0margs\u001b[0m\u001b[1;33m[\u001b[0m\u001b[1;36m0\u001b[0m\u001b[1;33m]\u001b[0m \u001b[1;33m==\u001b[0m \u001b[0mSSL_ERROR_EOF\u001b[0m \u001b[1;32mand\u001b[0m \u001b[0mself\u001b[0m\u001b[1;33m.\u001b[0m\u001b[0msuppress_ragged_eofs\u001b[0m\u001b[1;33m:\u001b[0m\u001b[1;33m\u001b[0m\u001b[0m\n",
        "\u001b[1;31mKeyboardInterrupt\u001b[0m: "
       ]
      }
     ],
     "prompt_number": 97
    },
    {
     "cell_type": "code",
     "collapsed": false,
     "input": [
      "#bdVectorsFiltered = bdVectorsFiltered.filterMetadata('meanNPV', 'greater_than', 0.03);\n",
      "#bdVectorsFiltered.getInfo()"
     ],
     "language": "python",
     "metadata": {},
     "outputs": [],
     "prompt_number": 1
    },
    {
     "cell_type": "code",
     "collapsed": false,
     "input": [
      "#del(map) #need to delete the map object so as not to conflict with the \n",
      "\n",
      "\n",
      "from geopandas import GeoDataFrame\n",
      "from shapely.geometry import shape\n",
      "\n",
      "def fc2df(fc):\n",
      "    # Convert a FeatureCollection into a pandas DataFrame\n",
      "   \n",
      "    # Features is a list of dict with the output\n",
      "    features = fc.getInfo()['features']\n",
      "\n",
      "    dictarr = []\n",
      "      \n",
      "    for f in features:\n",
      "        # Store all attributes in a dict\n",
      "        attr = f['properties']\n",
      "        # and treat geometry separately\n",
      "        attr['geometry'] = f['geometry']  # GeoJSON Feature!\n",
      "        # attr['geometrytype'] = f['geometry']['type']\n",
      "        dictarr.append(attr)\n",
      "       \n",
      "    df = GeoDataFrame(dictarr)\n",
      "    # Convert GeoJSON features to shape\n",
      "    df['geometry'] = map(lambda s: shape(s), df.geometry)    \n",
      "    return df\n",
      "# End fc2df\n"
     ],
     "language": "python",
     "metadata": {},
     "outputs": [],
     "prompt_number": 19
    },
    {
     "cell_type": "code",
     "collapsed": false,
     "input": [
      "bdVec_df = fc2df(bdVectorsFiltered)"
     ],
     "language": "python",
     "metadata": {},
     "outputs": [
      {
       "ename": "EEException",
       "evalue": "{u'message': u'Image.and: Unable to allocate 7.7MB (676kB in use).', u'code': 400}",
       "output_type": "pyerr",
       "traceback": [
        "\u001b[1;31m---------------------------------------------------------------------------\u001b[0m\n\u001b[1;31mEEException\u001b[0m                               Traceback (most recent call last)",
        "\u001b[1;32m<ipython-input-92-d5d9212bafe9>\u001b[0m in \u001b[0;36m<module>\u001b[1;34m()\u001b[0m\n\u001b[1;32m----> 1\u001b[1;33m \u001b[0mbdVec_df\u001b[0m \u001b[1;33m=\u001b[0m \u001b[0mfc2df\u001b[0m\u001b[1;33m(\u001b[0m\u001b[0mbdVectorsFiltered\u001b[0m\u001b[1;33m)\u001b[0m\u001b[1;33m\u001b[0m\u001b[0m\n\u001b[0m",
        "\u001b[1;32m<ipython-input-19-1d820fda6129>\u001b[0m in \u001b[0;36mfc2df\u001b[1;34m(fc)\u001b[0m\n\u001b[0;32m      9\u001b[0m \u001b[1;33m\u001b[0m\u001b[0m\n\u001b[0;32m     10\u001b[0m     \u001b[1;31m# Features is a list of dict with the output\u001b[0m\u001b[1;33m\u001b[0m\u001b[1;33m\u001b[0m\u001b[0m\n\u001b[1;32m---> 11\u001b[1;33m     \u001b[0mfeatures\u001b[0m \u001b[1;33m=\u001b[0m \u001b[0mfc\u001b[0m\u001b[1;33m.\u001b[0m\u001b[0mgetInfo\u001b[0m\u001b[1;33m(\u001b[0m\u001b[1;33m)\u001b[0m\u001b[1;33m[\u001b[0m\u001b[1;34m'features'\u001b[0m\u001b[1;33m]\u001b[0m\u001b[1;33m\u001b[0m\u001b[0m\n\u001b[0m\u001b[0;32m     12\u001b[0m \u001b[1;33m\u001b[0m\u001b[0m\n\u001b[0;32m     13\u001b[0m     \u001b[0mdictarr\u001b[0m \u001b[1;33m=\u001b[0m \u001b[1;33m[\u001b[0m\u001b[1;33m]\u001b[0m\u001b[1;33m\u001b[0m\u001b[0m\n",
        "\u001b[1;32m/usr/local/lib/python2.7/dist-packages/ee/collection.pyc\u001b[0m in \u001b[0;36mgetInfo\u001b[1;34m(self)\u001b[0m\n\u001b[0;32m    122\u001b[0m            \u001b[0mproperties\u001b[0m\u001b[1;33m.\u001b[0m\u001b[1;33m\u001b[0m\u001b[0m\n\u001b[0;32m    123\u001b[0m     \"\"\"\n\u001b[1;32m--> 124\u001b[1;33m     \u001b[1;32mreturn\u001b[0m \u001b[0msuper\u001b[0m\u001b[1;33m(\u001b[0m\u001b[0mCollection\u001b[0m\u001b[1;33m,\u001b[0m \u001b[0mself\u001b[0m\u001b[1;33m)\u001b[0m\u001b[1;33m.\u001b[0m\u001b[0mgetInfo\u001b[0m\u001b[1;33m(\u001b[0m\u001b[1;33m)\u001b[0m\u001b[1;33m\u001b[0m\u001b[0m\n\u001b[0m\u001b[0;32m    125\u001b[0m \u001b[1;33m\u001b[0m\u001b[0m\n\u001b[0;32m    126\u001b[0m   \u001b[1;32mdef\u001b[0m \u001b[0mlimit\u001b[0m\u001b[1;33m(\u001b[0m\u001b[0mself\u001b[0m\u001b[1;33m,\u001b[0m \u001b[0mmaximum\u001b[0m\u001b[1;33m,\u001b[0m \u001b[0mopt_property\u001b[0m\u001b[1;33m=\u001b[0m\u001b[0mNone\u001b[0m\u001b[1;33m,\u001b[0m \u001b[0mopt_ascending\u001b[0m\u001b[1;33m=\u001b[0m\u001b[0mNone\u001b[0m\u001b[1;33m)\u001b[0m\u001b[1;33m:\u001b[0m\u001b[1;33m\u001b[0m\u001b[0m\n",
        "\u001b[1;32m/usr/local/lib/python2.7/dist-packages/ee/computedobject.pyc\u001b[0m in \u001b[0;36mgetInfo\u001b[1;34m(self)\u001b[0m\n\u001b[0;32m     86\u001b[0m       \u001b[0mThe\u001b[0m \u001b[0mobject\u001b[0m \u001b[0mcan\u001b[0m \u001b[0mevaluate\u001b[0m \u001b[0mto\u001b[0m \u001b[0manything\u001b[0m\u001b[1;33m.\u001b[0m\u001b[1;33m\u001b[0m\u001b[0m\n\u001b[0;32m     87\u001b[0m     \"\"\"\n\u001b[1;32m---> 88\u001b[1;33m     \u001b[1;32mreturn\u001b[0m \u001b[0mdata\u001b[0m\u001b[1;33m.\u001b[0m\u001b[0mgetValue\u001b[0m\u001b[1;33m(\u001b[0m\u001b[1;33m{\u001b[0m\u001b[1;34m'json'\u001b[0m\u001b[1;33m:\u001b[0m \u001b[0mself\u001b[0m\u001b[1;33m.\u001b[0m\u001b[0mserialize\u001b[0m\u001b[1;33m(\u001b[0m\u001b[1;33m)\u001b[0m\u001b[1;33m}\u001b[0m\u001b[1;33m)\u001b[0m\u001b[1;33m\u001b[0m\u001b[0m\n\u001b[0m\u001b[0;32m     89\u001b[0m \u001b[1;33m\u001b[0m\u001b[0m\n\u001b[0;32m     90\u001b[0m   \u001b[1;32mdef\u001b[0m \u001b[0mencode\u001b[0m\u001b[1;33m(\u001b[0m\u001b[0mself\u001b[0m\u001b[1;33m,\u001b[0m \u001b[0mencoder\u001b[0m\u001b[1;33m)\u001b[0m\u001b[1;33m:\u001b[0m\u001b[1;33m\u001b[0m\u001b[0m\n",
        "\u001b[1;32m/usr/local/lib/python2.7/dist-packages/ee/data.pyc\u001b[0m in \u001b[0;36mgetValue\u001b[1;34m(params)\u001b[0m\n\u001b[0;32m    181\u001b[0m   \"\"\"\n\u001b[0;32m    182\u001b[0m   \u001b[0mparams\u001b[0m\u001b[1;33m[\u001b[0m\u001b[1;34m'json_format'\u001b[0m\u001b[1;33m]\u001b[0m \u001b[1;33m=\u001b[0m \u001b[1;34m'v2'\u001b[0m\u001b[1;33m\u001b[0m\u001b[0m\n\u001b[1;32m--> 183\u001b[1;33m   \u001b[1;32mreturn\u001b[0m \u001b[0msend_\u001b[0m\u001b[1;33m(\u001b[0m\u001b[1;34m'/value'\u001b[0m\u001b[1;33m,\u001b[0m \u001b[0mparams\u001b[0m\u001b[1;33m)\u001b[0m\u001b[1;33m\u001b[0m\u001b[0m\n\u001b[0m\u001b[0;32m    184\u001b[0m \u001b[1;33m\u001b[0m\u001b[0m\n\u001b[0;32m    185\u001b[0m \u001b[1;33m\u001b[0m\u001b[0m\n",
        "\u001b[1;32m/usr/local/lib/python2.7/dist-packages/ee/data.pyc\u001b[0m in \u001b[0;36msend_\u001b[1;34m(path, params, opt_method, opt_raw)\u001b[0m\n\u001b[0;32m    477\u001b[0m     \u001b[0mcontent\u001b[0m \u001b[1;33m=\u001b[0m \u001b[0mjson\u001b[0m\u001b[1;33m.\u001b[0m\u001b[0mloads\u001b[0m\u001b[1;33m(\u001b[0m\u001b[0mcontent\u001b[0m\u001b[1;33m)\u001b[0m\u001b[1;33m\u001b[0m\u001b[0m\n\u001b[0;32m    478\u001b[0m     \u001b[1;32mif\u001b[0m \u001b[1;34m'error'\u001b[0m \u001b[1;32min\u001b[0m \u001b[0mcontent\u001b[0m\u001b[1;33m:\u001b[0m\u001b[1;33m\u001b[0m\u001b[0m\n\u001b[1;32m--> 479\u001b[1;33m       \u001b[1;32mraise\u001b[0m \u001b[0mee_exception\u001b[0m\u001b[1;33m.\u001b[0m\u001b[0mEEException\u001b[0m\u001b[1;33m(\u001b[0m\u001b[0mcontent\u001b[0m\u001b[1;33m[\u001b[0m\u001b[1;34m'error'\u001b[0m\u001b[1;33m]\u001b[0m\u001b[1;33m)\u001b[0m\u001b[1;33m\u001b[0m\u001b[0m\n\u001b[0m\u001b[0;32m    480\u001b[0m     \u001b[1;32mif\u001b[0m \u001b[1;34m'data'\u001b[0m \u001b[1;32mnot\u001b[0m \u001b[1;32min\u001b[0m \u001b[0mcontent\u001b[0m\u001b[1;33m:\u001b[0m\u001b[1;33m\u001b[0m\u001b[0m\n\u001b[0;32m    481\u001b[0m       \u001b[1;32mraise\u001b[0m \u001b[0mee_exception\u001b[0m\u001b[1;33m.\u001b[0m\u001b[0mEEException\u001b[0m\u001b[1;33m(\u001b[0m\u001b[1;34m'Missing data in response: '\u001b[0m \u001b[1;33m+\u001b[0m \u001b[0mcontent\u001b[0m\u001b[1;33m)\u001b[0m\u001b[1;33m\u001b[0m\u001b[0m\n",
        "\u001b[1;31mEEException\u001b[0m: {u'message': u'Image.and: Unable to allocate 7.7MB (676kB in use).', u'code': 400}"
       ]
      }
     ],
     "prompt_number": 92
    },
    {
     "cell_type": "code",
     "collapsed": false,
     "input": [
      "bdVec_df"
     ],
     "language": "python",
     "metadata": {},
     "outputs": []
    },
    {
     "cell_type": "code",
     "collapsed": false,
     "input": [
      "#rawID = imageLast.getInfo()['id']\n",
      "#bdVec_df.to_file(rawID)"
     ],
     "language": "python",
     "metadata": {},
     "outputs": [],
     "prompt_number": 105
    },
    {
     "cell_type": "code",
     "collapsed": false,
     "input": [
      "import json\n",
      "#test = json.loads(rawID)\n",
      "#rawID.split()\n",
      "rawID = imageLast.get('LANDSAT_SCENE_ID'); \n",
      "test = rawID.serialize() #convert to json\n",
      "test = json.loads(test) #takes json string and converts to python data structure"
     ],
     "language": "python",
     "metadata": {},
     "outputs": [],
     "prompt_number": 22
    },
    {
     "cell_type": "code",
     "collapsed": false,
     "input": [
      "\"\"\"\n",
      "collection = 'LT5_L1T_SR' \n",
      "inYear = 2011\n",
      "startDate = datetime.datetime(inYear, 7, 1); \n",
      "endDate = datetime.datetime(inYear,12,31);\n",
      "path = 7\n",
      "row = 62 \n",
      "CC = 50\n",
      "\"\"\" \n",
      "shapeID = collection+\"_\"+str(path)+\"_\"+ str(row)+\"_\"+ str(inYear)\n",
      "shapeID"
     ],
     "language": "python",
     "metadata": {},
     "outputs": [
      {
       "metadata": {},
       "output_type": "pyout",
       "prompt_number": 23,
       "text": [
        "'LT5_L1T_SR_7_62_2011'"
       ]
      }
     ],
     "prompt_number": 23
    },
    {
     "cell_type": "code",
     "collapsed": false,
     "input": [
      "bdVec_df.to_file(shapeID)"
     ],
     "language": "python",
     "metadata": {},
     "outputs": [
      {
       "output_type": "stream",
       "stream": "stderr",
       "text": [
        "WARNING:Fiona:OGR Error 6: Normalized/laundered field name: 'meanWetSoil' to 'meanWetSoi'\n"
       ]
      },
      {
       "output_type": "stream",
       "stream": "stderr",
       "text": [
        "WARNING:Fiona:OGR Error 6: Normalized/laundered field name: 'scene_forest_area' to 'scene_fore'\n"
       ]
      }
     ],
     "prompt_number": 24
    },
    {
     "cell_type": "code",
     "collapsed": false,
     "input": [
      "junk = bdVectorsFiltered.getInfo()['features'][1]"
     ],
     "language": "python",
     "metadata": {},
     "outputs": [],
     "prompt_number": 52
    },
    {
     "cell_type": "code",
     "collapsed": false,
     "input": [
      "bdVec_df.to_file('bdVec.csv')"
     ],
     "language": "python",
     "metadata": {},
     "outputs": [
      {
       "metadata": {},
       "output_type": "pyout",
       "prompt_number": 54,
       "text": [
        "{u'area': 438364.01443051116,\n",
        " u'count': 250,\n",
        " u'label': 1,\n",
        " u'meanNPV': 0.11965073812894571}"
       ]
      }
     ],
     "prompt_number": 54
    },
    {
     "cell_type": "code",
     "collapsed": false,
     "input": [
      "import fiona \n",
      "fiona.supported_drivers"
     ],
     "language": "python",
     "metadata": {},
     "outputs": [
      {
       "metadata": {},
       "output_type": "pyout",
       "prompt_number": 68,
       "text": [
        "{'ARCGEN': 'r',\n",
        " 'AeronavFAA': 'r',\n",
        " 'BNA': 'raw',\n",
        " 'DGN': 'raw',\n",
        " 'DXF': 'raw',\n",
        " 'ESRI Shapefile': 'raw',\n",
        " 'FileGDB': 'raw',\n",
        " 'GMT': 'raw',\n",
        " 'GPKG': 'rw',\n",
        " 'GPSTrackMaker': 'raw',\n",
        " 'GPX': 'raw',\n",
        " 'GeoJSON': 'rw',\n",
        " 'Idrisi': 'r',\n",
        " 'MapInfo File': 'raw',\n",
        " 'PCIDSK': 'r',\n",
        " 'PDS': 'r',\n",
        " 'SEGY': 'r',\n",
        " 'SUA': 'r'}"
       ]
      }
     ],
     "prompt_number": 68
    },
    {
     "cell_type": "code",
     "collapsed": false,
     "input": [
      "write_csv(bdVec_df)"
     ],
     "language": "python",
     "metadata": {},
     "outputs": [
      {
       "ename": "NameError",
       "evalue": "name 'write_csv' is not defined",
       "output_type": "pyerr",
       "traceback": [
        "\u001b[1;31m---------------------------------------------------------------------------\u001b[0m\n\u001b[1;31mNameError\u001b[0m                                 Traceback (most recent call last)",
        "\u001b[1;32m<ipython-input-71-eba2aca9cf51>\u001b[0m in \u001b[0;36m<module>\u001b[1;34m()\u001b[0m\n\u001b[1;32m----> 1\u001b[1;33m \u001b[0mwrite_csv\u001b[0m\u001b[1;33m(\u001b[0m\u001b[0mbdVec_df\u001b[0m\u001b[1;33m)\u001b[0m\u001b[1;33m\u001b[0m\u001b[0m\n\u001b[0m",
        "\u001b[1;31mNameError\u001b[0m: name 'write_csv' is not defined"
       ]
      }
     ],
     "prompt_number": 71
    },
    {
     "cell_type": "code",
     "collapsed": false,
     "input": [
      "bdVec_df.to_csv(\"bdVec.csv\")"
     ],
     "language": "python",
     "metadata": {},
     "outputs": [],
     "prompt_number": 73
    },
    {
     "cell_type": "code",
     "collapsed": false,
     "input": [
      "imageForest = unmixBD.select('band_1').gte(0.1)\n",
      "map = GoogleMapsWidget(lat=-2.93, lng=-75.32, zoom=13)\n",
      "display(map) \n",
      "#map.addLayer(image=bdRealSmooth, name=\"BD-on/off\",visible=False)\n",
      "map.addLayer(image=total, vis_params=visParamsSR, name=\"SR masked\")\n",
      "map.addLayer(image=imageForest, name=\"Forest\")\n",
      "#map.addLayer(bdLab, name=\"BD-redToVec\")\n",
      "#visBDvecParams =  {'color':'FF0000'}; \n",
      "#map.addLayer(bdVectorsFiltered, vis_params=visBDvecParams, name=\"BD vectors - filtered\",visible=True)\n"
     ],
     "language": "python",
     "metadata": {},
     "outputs": [],
     "prompt_number": 114
    },
    {
     "cell_type": "code",
     "collapsed": false,
     "input": [],
     "language": "python",
     "metadata": {},
     "outputs": [],
     "prompt_number": 139
    },
    {
     "cell_type": "code",
     "collapsed": false,
     "input": [
      "area = pixNum.reduceRegion(reducer=ee.call(\"Reducer.sum\"))"
     ],
     "language": "python",
     "metadata": {},
     "outputs": [],
     "prompt_number": 129
    },
    {
     "cell_type": "code",
     "collapsed": false,
     "input": [],
     "language": "python",
     "metadata": {},
     "outputs": [],
     "prompt_number": 167
    },
    {
     "cell_type": "code",
     "collapsed": false,
     "input": [
      "test = stats_raster.get('band_1')"
     ],
     "language": "python",
     "metadata": {},
     "outputs": [],
     "prompt_number": 145
    },
    {
     "cell_type": "code",
     "collapsed": false,
     "input": [],
     "language": "python",
     "metadata": {},
     "outputs": [
      {
       "metadata": {},
       "output_type": "pyout",
       "prompt_number": 174,
       "text": [
        "28653158237.211376"
       ]
      }
     ],
     "prompt_number": 174
    },
    {
     "cell_type": "code",
     "collapsed": false,
     "input": [
      "type(test)"
     ],
     "language": "python",
     "metadata": {},
     "outputs": [
      {
       "metadata": {},
       "output_type": "pyout",
       "prompt_number": 148,
       "text": [
        "str"
       ]
      }
     ],
     "prompt_number": 148
    },
    {
     "cell_type": "code",
     "collapsed": false,
     "input": [
      "import json\n",
      "test_py = json.loads(test) #takes json string and converts to python data structure"
     ],
     "language": "python",
     "metadata": {},
     "outputs": [],
     "prompt_number": 151
    },
    {
     "cell_type": "code",
     "collapsed": false,
     "input": [
      "bdVectorsFiltered.getInfo()"
     ],
     "language": "python",
     "metadata": {},
     "outputs": [
      {
       "ename": "EEException",
       "evalue": "{u'message': u\"The value of the property 'meanNPV' is not a valid operand for this filter.\", u'code': 400}",
       "output_type": "pyerr",
       "traceback": [
        "\u001b[1;31m---------------------------------------------------------------------------\u001b[0m\n\u001b[1;31mEEException\u001b[0m                               Traceback (most recent call last)",
        "\u001b[1;32m<ipython-input-68-c69d24e10cb4>\u001b[0m in \u001b[0;36m<module>\u001b[1;34m()\u001b[0m\n\u001b[1;32m----> 1\u001b[1;33m \u001b[0mbdVectorsFiltered\u001b[0m\u001b[1;33m.\u001b[0m\u001b[0mgetInfo\u001b[0m\u001b[1;33m(\u001b[0m\u001b[1;33m)\u001b[0m\u001b[1;33m\u001b[0m\u001b[0m\n\u001b[0m",
        "\u001b[1;32m/usr/local/lib/python2.7/dist-packages/ee/collection.pyc\u001b[0m in \u001b[0;36mgetInfo\u001b[1;34m(self)\u001b[0m\n\u001b[0;32m    122\u001b[0m            \u001b[0mproperties\u001b[0m\u001b[1;33m.\u001b[0m\u001b[1;33m\u001b[0m\u001b[0m\n\u001b[0;32m    123\u001b[0m     \"\"\"\n\u001b[1;32m--> 124\u001b[1;33m     \u001b[1;32mreturn\u001b[0m \u001b[0msuper\u001b[0m\u001b[1;33m(\u001b[0m\u001b[0mCollection\u001b[0m\u001b[1;33m,\u001b[0m \u001b[0mself\u001b[0m\u001b[1;33m)\u001b[0m\u001b[1;33m.\u001b[0m\u001b[0mgetInfo\u001b[0m\u001b[1;33m(\u001b[0m\u001b[1;33m)\u001b[0m\u001b[1;33m\u001b[0m\u001b[0m\n\u001b[0m\u001b[0;32m    125\u001b[0m \u001b[1;33m\u001b[0m\u001b[0m\n\u001b[0;32m    126\u001b[0m   \u001b[1;32mdef\u001b[0m \u001b[0mlimit\u001b[0m\u001b[1;33m(\u001b[0m\u001b[0mself\u001b[0m\u001b[1;33m,\u001b[0m \u001b[0mmaximum\u001b[0m\u001b[1;33m,\u001b[0m \u001b[0mopt_property\u001b[0m\u001b[1;33m=\u001b[0m\u001b[0mNone\u001b[0m\u001b[1;33m,\u001b[0m \u001b[0mopt_ascending\u001b[0m\u001b[1;33m=\u001b[0m\u001b[0mNone\u001b[0m\u001b[1;33m)\u001b[0m\u001b[1;33m:\u001b[0m\u001b[1;33m\u001b[0m\u001b[0m\n",
        "\u001b[1;32m/usr/local/lib/python2.7/dist-packages/ee/computedobject.pyc\u001b[0m in \u001b[0;36mgetInfo\u001b[1;34m(self)\u001b[0m\n\u001b[0;32m     86\u001b[0m       \u001b[0mThe\u001b[0m \u001b[0mobject\u001b[0m \u001b[0mcan\u001b[0m \u001b[0mevaluate\u001b[0m \u001b[0mto\u001b[0m \u001b[0manything\u001b[0m\u001b[1;33m.\u001b[0m\u001b[1;33m\u001b[0m\u001b[0m\n\u001b[0;32m     87\u001b[0m     \"\"\"\n\u001b[1;32m---> 88\u001b[1;33m     \u001b[1;32mreturn\u001b[0m \u001b[0mdata\u001b[0m\u001b[1;33m.\u001b[0m\u001b[0mgetValue\u001b[0m\u001b[1;33m(\u001b[0m\u001b[1;33m{\u001b[0m\u001b[1;34m'json'\u001b[0m\u001b[1;33m:\u001b[0m \u001b[0mself\u001b[0m\u001b[1;33m.\u001b[0m\u001b[0mserialize\u001b[0m\u001b[1;33m(\u001b[0m\u001b[1;33m)\u001b[0m\u001b[1;33m}\u001b[0m\u001b[1;33m)\u001b[0m\u001b[1;33m\u001b[0m\u001b[0m\n\u001b[0m\u001b[0;32m     89\u001b[0m \u001b[1;33m\u001b[0m\u001b[0m\n\u001b[0;32m     90\u001b[0m   \u001b[1;32mdef\u001b[0m \u001b[0mencode\u001b[0m\u001b[1;33m(\u001b[0m\u001b[0mself\u001b[0m\u001b[1;33m,\u001b[0m \u001b[0mencoder\u001b[0m\u001b[1;33m)\u001b[0m\u001b[1;33m:\u001b[0m\u001b[1;33m\u001b[0m\u001b[0m\n",
        "\u001b[1;32m/usr/local/lib/python2.7/dist-packages/ee/data.pyc\u001b[0m in \u001b[0;36mgetValue\u001b[1;34m(params)\u001b[0m\n\u001b[0;32m    181\u001b[0m   \"\"\"\n\u001b[0;32m    182\u001b[0m   \u001b[0mparams\u001b[0m\u001b[1;33m[\u001b[0m\u001b[1;34m'json_format'\u001b[0m\u001b[1;33m]\u001b[0m \u001b[1;33m=\u001b[0m \u001b[1;34m'v2'\u001b[0m\u001b[1;33m\u001b[0m\u001b[0m\n\u001b[1;32m--> 183\u001b[1;33m   \u001b[1;32mreturn\u001b[0m \u001b[0msend_\u001b[0m\u001b[1;33m(\u001b[0m\u001b[1;34m'/value'\u001b[0m\u001b[1;33m,\u001b[0m \u001b[0mparams\u001b[0m\u001b[1;33m)\u001b[0m\u001b[1;33m\u001b[0m\u001b[0m\n\u001b[0m\u001b[0;32m    184\u001b[0m \u001b[1;33m\u001b[0m\u001b[0m\n\u001b[0;32m    185\u001b[0m \u001b[1;33m\u001b[0m\u001b[0m\n",
        "\u001b[1;32m/usr/local/lib/python2.7/dist-packages/ee/data.pyc\u001b[0m in \u001b[0;36msend_\u001b[1;34m(path, params, opt_method, opt_raw)\u001b[0m\n\u001b[0;32m    477\u001b[0m     \u001b[0mcontent\u001b[0m \u001b[1;33m=\u001b[0m \u001b[0mjson\u001b[0m\u001b[1;33m.\u001b[0m\u001b[0mloads\u001b[0m\u001b[1;33m(\u001b[0m\u001b[0mcontent\u001b[0m\u001b[1;33m)\u001b[0m\u001b[1;33m\u001b[0m\u001b[0m\n\u001b[0;32m    478\u001b[0m     \u001b[1;32mif\u001b[0m \u001b[1;34m'error'\u001b[0m \u001b[1;32min\u001b[0m \u001b[0mcontent\u001b[0m\u001b[1;33m:\u001b[0m\u001b[1;33m\u001b[0m\u001b[0m\n\u001b[1;32m--> 479\u001b[1;33m       \u001b[1;32mraise\u001b[0m \u001b[0mee_exception\u001b[0m\u001b[1;33m.\u001b[0m\u001b[0mEEException\u001b[0m\u001b[1;33m(\u001b[0m\u001b[0mcontent\u001b[0m\u001b[1;33m[\u001b[0m\u001b[1;34m'error'\u001b[0m\u001b[1;33m]\u001b[0m\u001b[1;33m)\u001b[0m\u001b[1;33m\u001b[0m\u001b[0m\n\u001b[0m\u001b[0;32m    480\u001b[0m     \u001b[1;32mif\u001b[0m \u001b[1;34m'data'\u001b[0m \u001b[1;32mnot\u001b[0m \u001b[1;32min\u001b[0m \u001b[0mcontent\u001b[0m\u001b[1;33m:\u001b[0m\u001b[1;33m\u001b[0m\u001b[0m\n\u001b[0;32m    481\u001b[0m       \u001b[1;32mraise\u001b[0m \u001b[0mee_exception\u001b[0m\u001b[1;33m.\u001b[0m\u001b[0mEEException\u001b[0m\u001b[1;33m(\u001b[0m\u001b[1;34m'Missing data in response: '\u001b[0m \u001b[1;33m+\u001b[0m \u001b[0mcontent\u001b[0m\u001b[1;33m)\u001b[0m\u001b[1;33m\u001b[0m\u001b[0m\n",
        "\u001b[1;31mEEException\u001b[0m: {u'message': u\"The value of the property 'meanNPV' is not a valid operand for this filter.\", u'code': 400}"
       ]
      }
     ],
     "prompt_number": 68
    },
    {
     "cell_type": "code",
     "collapsed": false,
     "input": [
      "test_py['value']"
     ],
     "language": "python",
     "metadata": {},
     "outputs": [
      {
       "metadata": {},
       "output_type": "pyout",
       "prompt_number": 160,
       "text": [
        "{u'type': u'ValueRef', u'value': u'91'}"
       ]
      }
     ],
     "prompt_number": 160
    },
    {
     "cell_type": "code",
     "collapsed": false,
     "input": [
      "test_py[']"
     ],
     "language": "python",
     "metadata": {},
     "outputs": [
      {
       "ename": "AttributeError",
       "evalue": "'str' object has no attribute 'get'",
       "output_type": "pyerr",
       "traceback": [
        "\u001b[1;31m---------------------------------------------------------------------------\u001b[0m\n\u001b[1;31mAttributeError\u001b[0m                            Traceback (most recent call last)",
        "\u001b[1;32m<ipython-input-166-4844bb8340b6>\u001b[0m in \u001b[0;36m<module>\u001b[1;34m()\u001b[0m\n\u001b[1;32m----> 1\u001b[1;33m \u001b[0mjson\u001b[0m\u001b[1;33m.\u001b[0m\u001b[0mdumps\u001b[0m\u001b[1;33m(\u001b[0m\u001b[0mtest\u001b[0m\u001b[1;33m)\u001b[0m\u001b[1;33m.\u001b[0m\u001b[0mget\u001b[0m\u001b[1;33m(\u001b[0m\u001b[1;34m'system:time_start'\u001b[0m\u001b[1;33m)\u001b[0m\u001b[1;33m\u001b[0m\u001b[0m\n\u001b[0m",
        "\u001b[1;31mAttributeError\u001b[0m: 'str' object has no attribute 'get'"
       ]
      }
     ],
     "prompt_number": 166
    },
    {
     "cell_type": "code",
     "collapsed": false,
     "input": [
      "bdVectorsFiltered.getInfo()"
     ],
     "language": "python",
     "metadata": {},
     "outputs": [
      {
       "ename": "EEException",
       "evalue": "{u'message': u\"The value of the property 'meanNPV' is not a valid operand for this filter.\", u'code': 400}",
       "output_type": "pyerr",
       "traceback": [
        "\u001b[1;31m---------------------------------------------------------------------------\u001b[0m\n\u001b[1;31mEEException\u001b[0m                               Traceback (most recent call last)",
        "\u001b[1;32m<ipython-input-82-c69d24e10cb4>\u001b[0m in \u001b[0;36m<module>\u001b[1;34m()\u001b[0m\n\u001b[1;32m----> 1\u001b[1;33m \u001b[0mbdVectorsFiltered\u001b[0m\u001b[1;33m.\u001b[0m\u001b[0mgetInfo\u001b[0m\u001b[1;33m(\u001b[0m\u001b[1;33m)\u001b[0m\u001b[1;33m\u001b[0m\u001b[0m\n\u001b[0m",
        "\u001b[1;32m/usr/local/lib/python2.7/dist-packages/ee/collection.pyc\u001b[0m in \u001b[0;36mgetInfo\u001b[1;34m(self)\u001b[0m\n\u001b[0;32m    122\u001b[0m            \u001b[0mproperties\u001b[0m\u001b[1;33m.\u001b[0m\u001b[1;33m\u001b[0m\u001b[0m\n\u001b[0;32m    123\u001b[0m     \"\"\"\n\u001b[1;32m--> 124\u001b[1;33m     \u001b[1;32mreturn\u001b[0m \u001b[0msuper\u001b[0m\u001b[1;33m(\u001b[0m\u001b[0mCollection\u001b[0m\u001b[1;33m,\u001b[0m \u001b[0mself\u001b[0m\u001b[1;33m)\u001b[0m\u001b[1;33m.\u001b[0m\u001b[0mgetInfo\u001b[0m\u001b[1;33m(\u001b[0m\u001b[1;33m)\u001b[0m\u001b[1;33m\u001b[0m\u001b[0m\n\u001b[0m\u001b[0;32m    125\u001b[0m \u001b[1;33m\u001b[0m\u001b[0m\n\u001b[0;32m    126\u001b[0m   \u001b[1;32mdef\u001b[0m \u001b[0mlimit\u001b[0m\u001b[1;33m(\u001b[0m\u001b[0mself\u001b[0m\u001b[1;33m,\u001b[0m \u001b[0mmaximum\u001b[0m\u001b[1;33m,\u001b[0m \u001b[0mopt_property\u001b[0m\u001b[1;33m=\u001b[0m\u001b[0mNone\u001b[0m\u001b[1;33m,\u001b[0m \u001b[0mopt_ascending\u001b[0m\u001b[1;33m=\u001b[0m\u001b[0mNone\u001b[0m\u001b[1;33m)\u001b[0m\u001b[1;33m:\u001b[0m\u001b[1;33m\u001b[0m\u001b[0m\n",
        "\u001b[1;32m/usr/local/lib/python2.7/dist-packages/ee/computedobject.pyc\u001b[0m in \u001b[0;36mgetInfo\u001b[1;34m(self)\u001b[0m\n\u001b[0;32m     86\u001b[0m       \u001b[0mThe\u001b[0m \u001b[0mobject\u001b[0m \u001b[0mcan\u001b[0m \u001b[0mevaluate\u001b[0m \u001b[0mto\u001b[0m \u001b[0manything\u001b[0m\u001b[1;33m.\u001b[0m\u001b[1;33m\u001b[0m\u001b[0m\n\u001b[0;32m     87\u001b[0m     \"\"\"\n\u001b[1;32m---> 88\u001b[1;33m     \u001b[1;32mreturn\u001b[0m \u001b[0mdata\u001b[0m\u001b[1;33m.\u001b[0m\u001b[0mgetValue\u001b[0m\u001b[1;33m(\u001b[0m\u001b[1;33m{\u001b[0m\u001b[1;34m'json'\u001b[0m\u001b[1;33m:\u001b[0m \u001b[0mself\u001b[0m\u001b[1;33m.\u001b[0m\u001b[0mserialize\u001b[0m\u001b[1;33m(\u001b[0m\u001b[1;33m)\u001b[0m\u001b[1;33m}\u001b[0m\u001b[1;33m)\u001b[0m\u001b[1;33m\u001b[0m\u001b[0m\n\u001b[0m\u001b[0;32m     89\u001b[0m \u001b[1;33m\u001b[0m\u001b[0m\n\u001b[0;32m     90\u001b[0m   \u001b[1;32mdef\u001b[0m \u001b[0mencode\u001b[0m\u001b[1;33m(\u001b[0m\u001b[0mself\u001b[0m\u001b[1;33m,\u001b[0m \u001b[0mencoder\u001b[0m\u001b[1;33m)\u001b[0m\u001b[1;33m:\u001b[0m\u001b[1;33m\u001b[0m\u001b[0m\n",
        "\u001b[1;32m/usr/local/lib/python2.7/dist-packages/ee/data.pyc\u001b[0m in \u001b[0;36mgetValue\u001b[1;34m(params)\u001b[0m\n\u001b[0;32m    181\u001b[0m   \"\"\"\n\u001b[0;32m    182\u001b[0m   \u001b[0mparams\u001b[0m\u001b[1;33m[\u001b[0m\u001b[1;34m'json_format'\u001b[0m\u001b[1;33m]\u001b[0m \u001b[1;33m=\u001b[0m \u001b[1;34m'v2'\u001b[0m\u001b[1;33m\u001b[0m\u001b[0m\n\u001b[1;32m--> 183\u001b[1;33m   \u001b[1;32mreturn\u001b[0m \u001b[0msend_\u001b[0m\u001b[1;33m(\u001b[0m\u001b[1;34m'/value'\u001b[0m\u001b[1;33m,\u001b[0m \u001b[0mparams\u001b[0m\u001b[1;33m)\u001b[0m\u001b[1;33m\u001b[0m\u001b[0m\n\u001b[0m\u001b[0;32m    184\u001b[0m \u001b[1;33m\u001b[0m\u001b[0m\n\u001b[0;32m    185\u001b[0m \u001b[1;33m\u001b[0m\u001b[0m\n",
        "\u001b[1;32m/usr/local/lib/python2.7/dist-packages/ee/data.pyc\u001b[0m in \u001b[0;36msend_\u001b[1;34m(path, params, opt_method, opt_raw)\u001b[0m\n\u001b[0;32m    477\u001b[0m     \u001b[0mcontent\u001b[0m \u001b[1;33m=\u001b[0m \u001b[0mjson\u001b[0m\u001b[1;33m.\u001b[0m\u001b[0mloads\u001b[0m\u001b[1;33m(\u001b[0m\u001b[0mcontent\u001b[0m\u001b[1;33m)\u001b[0m\u001b[1;33m\u001b[0m\u001b[0m\n\u001b[0;32m    478\u001b[0m     \u001b[1;32mif\u001b[0m \u001b[1;34m'error'\u001b[0m \u001b[1;32min\u001b[0m \u001b[0mcontent\u001b[0m\u001b[1;33m:\u001b[0m\u001b[1;33m\u001b[0m\u001b[0m\n\u001b[1;32m--> 479\u001b[1;33m       \u001b[1;32mraise\u001b[0m \u001b[0mee_exception\u001b[0m\u001b[1;33m.\u001b[0m\u001b[0mEEException\u001b[0m\u001b[1;33m(\u001b[0m\u001b[0mcontent\u001b[0m\u001b[1;33m[\u001b[0m\u001b[1;34m'error'\u001b[0m\u001b[1;33m]\u001b[0m\u001b[1;33m)\u001b[0m\u001b[1;33m\u001b[0m\u001b[0m\n\u001b[0m\u001b[0;32m    480\u001b[0m     \u001b[1;32mif\u001b[0m \u001b[1;34m'data'\u001b[0m \u001b[1;32mnot\u001b[0m \u001b[1;32min\u001b[0m \u001b[0mcontent\u001b[0m\u001b[1;33m:\u001b[0m\u001b[1;33m\u001b[0m\u001b[0m\n\u001b[0;32m    481\u001b[0m       \u001b[1;32mraise\u001b[0m \u001b[0mee_exception\u001b[0m\u001b[1;33m.\u001b[0m\u001b[0mEEException\u001b[0m\u001b[1;33m(\u001b[0m\u001b[1;34m'Missing data in response: '\u001b[0m \u001b[1;33m+\u001b[0m \u001b[0mcontent\u001b[0m\u001b[1;33m)\u001b[0m\u001b[1;33m\u001b[0m\u001b[0m\n",
        "\u001b[1;31mEEException\u001b[0m: {u'message': u\"The value of the property 'meanNPV' is not a valid operand for this filter.\", u'code': 400}"
       ]
      }
     ],
     "prompt_number": 82
    },
    {
     "cell_type": "code",
     "collapsed": false,
     "input": [
      "NPV.reduceRegion(mean_reducer, bdVectors.convexHull(5).geometry(),30);\n"
     ],
     "language": "python",
     "metadata": {},
     "outputs": [
      {
       "ename": "AttributeError",
       "evalue": "'FeatureCollection' object has no attribute 'convexHull'",
       "output_type": "pyerr",
       "traceback": [
        "\u001b[1;31m---------------------------------------------------------------------------\u001b[0m\n\u001b[1;31mAttributeError\u001b[0m                            Traceback (most recent call last)",
        "\u001b[1;32m<ipython-input-93-5b04c9a60849>\u001b[0m in \u001b[0;36m<module>\u001b[1;34m()\u001b[0m\n\u001b[1;32m----> 1\u001b[1;33m \u001b[0mNPV\u001b[0m\u001b[1;33m.\u001b[0m\u001b[0mreduceRegion\u001b[0m\u001b[1;33m(\u001b[0m\u001b[0mmean_reducer\u001b[0m\u001b[1;33m,\u001b[0m \u001b[0mbdVectors\u001b[0m\u001b[1;33m.\u001b[0m\u001b[0mconvexHull\u001b[0m\u001b[1;33m(\u001b[0m\u001b[1;36m5\u001b[0m\u001b[1;33m)\u001b[0m\u001b[1;33m.\u001b[0m\u001b[0mgeometry\u001b[0m\u001b[1;33m(\u001b[0m\u001b[1;33m)\u001b[0m\u001b[1;33m,\u001b[0m\u001b[1;36m30\u001b[0m\u001b[1;33m)\u001b[0m\u001b[1;33m;\u001b[0m\u001b[1;33m\u001b[0m\u001b[0m\n\u001b[0m",
        "\u001b[1;31mAttributeError\u001b[0m: 'FeatureCollection' object has no attribute 'convexHull'"
       ]
      }
     ],
     "prompt_number": 93
    },
    {
     "cell_type": "code",
     "collapsed": false,
     "input": [],
     "language": "python",
     "metadata": {},
     "outputs": []
    }
   ],
   "metadata": {}
  }
 ]
}