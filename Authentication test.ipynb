{
 "metadata": {
  "name": "",
  "signature": "sha256:18c8f614c1633feb9b17e645871234c79fa9abf98d0b3d3b4bf76ebf2138dd95"
 },
 "nbformat": 3,
 "nbformat_minor": 0,
 "worksheets": [
  {
   "cells": [
    {
     "cell_type": "code",
     "collapsed": false,
     "input": [
      "refresh_token = \"REPLACE_ME\""
     ],
     "language": "python",
     "metadata": {},
     "outputs": []
    },
    {
     "cell_type": "code",
     "collapsed": false,
     "input": [
      "import errno\n",
      "import json\n",
      "import os\n",
      "from ee.oauthinfo import OAuthInfo\n",
      "\n",
      "credentials_path = OAuthInfo.credentials_path()\n",
      "dirname = os.path.dirname(credentials_path)\n",
      "\n",
      "if os.path.isfile(credentials_path):\n",
      "    print('\\nCredentials file already exists!')\n",
      "else:    \n",
      "    print('\\nCredentials file does not exist!')\n",
      "    try:\n",
      "      os.makedirs(dirname)\n",
      "    except OSError, e:\n",
      "      if e.errno != errno.EEXIST:\n",
      "        raise Exception('Error creating %s: %s' % (dirname, e))\n",
      "\n",
      "    json.dump({'refresh_token': refresh_token}, open(credentials_path, 'w'))\n",
      "\n",
      "    print '\\nSuccessfully saved authorization to %s' % credentials_path"
     ],
     "language": "python",
     "metadata": {},
     "outputs": []
    },
    {
     "cell_type": "code",
     "collapsed": false,
     "input": [
      "import ee\n",
      "\n",
      "# Initialize the Earth Engine object, using the authentication credentials. \n",
      "ee.Initialize() \n",
      "\n",
      "# Print the information for an image asset. \n",
      "image = ee.Image('srtm90_v4') \n",
      "print(image.getInfo())"
     ],
     "language": "python",
     "metadata": {},
     "outputs": [
      {
       "output_type": "stream",
       "stream": "stdout",
       "text": [
        "{u'bands': [{u'crs': u'EPSG:4326', u'crs_transform': [0.0008333333535119891, 0.0, -180.0, 0.0, -0.0008333333535119891, 60.0], u'id': u'elevation', u'data_type': {u'max': 32767, u'type': u'PixelType', u'precision': u'int', u'min': -32768}, u'dimensions': [432000, 144000]}], u'version': 1394719201958000, u'type': u'Image', u'id': u'srtm90_v4', u'properties': {u'system:footprint': {u'type': u'LinearRing', u'coordinates': [[-180.0, 90.0], [-180.0, -90.0], [180.0, -90.0], [180.0, 90.0], [-180.0, 90.0]]}, u'system:time_end': 951177600000, u'google:footprint': {u'type': u'LinearRing', u'coordinates': [[-180.0, 60.0], [-180.0, -60.0], [180.0, -60.0], [180.0, 60.0], [-180.0, 60.0]]}, u'system:time_start': 950227200000}}\n"
       ]
      }
     ],
     "prompt_number": 1
    },
    {
     "cell_type": "code",
     "collapsed": false,
     "input": [],
     "language": "python",
     "metadata": {},
     "outputs": []
    }
   ],
   "metadata": {}
  }
 ]
}